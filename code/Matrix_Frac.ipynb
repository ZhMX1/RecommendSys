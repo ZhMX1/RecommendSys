{
 "cells": [
  {
   "cell_type": "markdown",
   "metadata": {},
   "source": [
    "# 商务智能：Final Proj - MF\n",
    "* 成员：\n",
    "    * 吴越 2024211326    \n",
    "    * 张铭轩 2024211332     \n",
    "    * 卜方婧 2024211340\n",
    "\n",
    "# Goal\n",
    "* Extract user item rating information from the review dataset. Remove some ratings from this matrix, using matrix factorization to predict rating for these removed (user, item) pairs, and calculate mean absolute error.\n",
    "   \n",
    "# 步骤\n",
    "* 数据预处理：\n",
    "    * 提取product_reviews中user、product、score的信息，形成dataframe `data`; \n",
    "    * 随机删除10\\%的数据，并在后续作为测试集评估模型性能。\n",
    "* Matrix Factorization：\n",
    "    * BiasSVD：无正则 & $L_2$正则\n",
    "* 模型评估：\n",
    "    * 使用MAE/MSE/RMSE作为衡量指标，在测试集上进行计算"
   ]
  },
  {
   "cell_type": "code",
   "execution_count": 1,
   "metadata": {},
   "outputs": [],
   "source": [
    "import pandas as pd\n",
    "import numpy as np\n",
    "import matplotlib.pyplot as plt\n",
    "import tensorflow as tf\n",
    "\n",
    "from keras.models import Model\n",
    "from keras.layers import Input, Embedding, Dot, Flatten, Add\n",
    "from keras.optimizers import SGD, Adam\n",
    "from keras.regularizers import l2\n",
    "import tensorflow.keras.backend as K\n",
    "from keras.callbacks import EarlyStopping"
   ]
  },
  {
   "cell_type": "code",
   "execution_count": 2,
   "metadata": {},
   "outputs": [],
   "source": [
    "# load data\n",
    "data_train = pd.read_parquet(\"data_train.parquet\")\n",
    "data_test = pd.read_parquet(\"data_test.parquet\")\n",
    "\n",
    "data_train=data_train[[\"userId_encode\",\"productId_encode\",\"score\"]]\n",
    "data_test=data_test[[\"userId_encode\",\"productId_encode\",\"score\"]]"
   ]
  },
  {
   "cell_type": "markdown",
   "metadata": {},
   "source": [
    "# Matrix Factorization"
   ]
  },
  {
   "cell_type": "markdown",
   "metadata": {},
   "source": [
    "## BiasSVD"
   ]
  },
  {
   "cell_type": "markdown",
   "metadata": {},
   "source": [
    "BiasSVD 的预测模型为：\n",
    "\n",
    "\n",
    "$$\n",
    "\\hat{r}_{ui} =  p_u^T q_i + b_u + b_i + b\n",
    "$$\n",
    "\n",
    "\n",
    "BiasSVD 的损失函数为（无正则化项）：\n",
    "\n",
    "$$\\sum_{(u,i): r_{ui}\\neq null} \\left( r_{ui} - \\hat{r}_{ui} \\right)^2$$\n",
    "\n",
    "\n",
    "BiasSVD 的损失函数为（有$\\sum_u\\|p_u\\|^2 + \\sum_i \\|q_i\\|^2$ 正则化项）：\n",
    "\n",
    "$$\\sum_{(u,i): r_{ui}\\neq null} \\left( r_{ui} - \\hat{r}_{ui} \\right)^2 \n",
    "+ \\lambda \\left( \\sum_u\\|p_u\\|^2 + \\sum_i \\|q_i\\|^2 \\right)$$\n",
    "\n",
    "\n",
    "BiasSVD 的损失函数为（有$\\sum_u\\|p_u\\|^2 + \\sum_i \\|q_i\\|^2 + \\sum_u  b_u^2 +\\sum_i b_i^2$ 正则化项）：\n",
    "\n",
    "$$\\sum_{(u,i): r_{ui}\\neq null} \\left( r_{ui} - \\hat{r}_{ui} \\right)^2 \n",
    "+ \\lambda \\left( \\sum_u\\|p_u\\|^2 + \\sum_i \\|q_i\\|^2 + \\sum_u  b_u^2 +\\sum_i b_i^2  \\right)$$\n",
    "\n"
   ]
  },
  {
   "cell_type": "markdown",
   "metadata": {},
   "source": [
    "### BiasSVD无正则化"
   ]
  },
  {
   "cell_type": "code",
   "execution_count": 3,
   "metadata": {},
   "outputs": [
    {
     "name": "stdout",
     "output_type": "stream",
     "text": [
      "Model: \"model\"\n",
      "__________________________________________________________________________________________________\n",
      " Layer (type)                Output Shape                 Param #   Connected to                  \n",
      "==================================================================================================\n",
      " input_1 (InputLayer)        [(None, 1)]                  0         []                            \n",
      "                                                                                                  \n",
      " input_2 (InputLayer)        [(None, 1)]                  0         []                            \n",
      "                                                                                                  \n",
      " embedding (Embedding)       (None, 1, 5)                 827665    ['input_1[0][0]']             \n",
      "                                                                                                  \n",
      " embedding_1 (Embedding)     (None, 1, 5)                 187560    ['input_2[0][0]']             \n",
      "                                                                                                  \n",
      " flatten (Flatten)           (None, 5)                    0         ['embedding[0][0]']           \n",
      "                                                                                                  \n",
      " flatten_1 (Flatten)         (None, 5)                    0         ['embedding_1[0][0]']         \n",
      "                                                                                                  \n",
      " embedding_2 (Embedding)     (None, 1, 1)                 165533    ['input_1[0][0]']             \n",
      "                                                                                                  \n",
      " embedding_3 (Embedding)     (None, 1, 1)                 37512     ['input_2[0][0]']             \n",
      "                                                                                                  \n",
      " dot (Dot)                   (None, 1)                    0         ['flatten[0][0]',             \n",
      "                                                                     'flatten_1[0][0]']           \n",
      "                                                                                                  \n",
      " flatten_2 (Flatten)         (None, 1)                    0         ['embedding_2[0][0]']         \n",
      "                                                                                                  \n",
      " flatten_3 (Flatten)         (None, 1)                    0         ['embedding_3[0][0]']         \n",
      "                                                                                                  \n",
      " add (Add)                   (None, 1)                    0         ['dot[0][0]',                 \n",
      "                                                                     'flatten_2[0][0]',           \n",
      "                                                                     'flatten_3[0][0]']           \n",
      "                                                                                                  \n",
      "==================================================================================================\n",
      "Total params: 1218270 (4.65 MB)\n",
      "Trainable params: 1218270 (4.65 MB)\n",
      "Non-trainable params: 0 (0.00 Byte)\n",
      "__________________________________________________________________________________________________\n"
     ]
    }
   ],
   "source": [
    "# 用户数和物品数\n",
    "n_users = data_train[\"userId_encode\"].unique().shape[0]\n",
    "n_products = data_train[\"productId_encode\"].unique().shape[0]\n",
    "# 隐藏层节点数\n",
    "n_factors = 5\n",
    "# 学习率\n",
    "lr = 0.01\n",
    "\n",
    "user_input = Input(shape=(1,))\n",
    "item_input = Input(shape=(1,))\n",
    "\n",
    "# Embedding layers for users and items\n",
    "user_embedding = Embedding(input_dim=n_users, output_dim=n_factors)(user_input)\n",
    "item_embedding = Embedding(input_dim=n_products, output_dim=n_factors)(item_input)\n",
    "\n",
    "# Flatten the embedding layers\n",
    "user_vector = Flatten()(user_embedding)\n",
    "item_vector = Flatten()(item_embedding)\n",
    "\n",
    "# Create the bias terms\n",
    "user_bias = Embedding(input_dim=n_users, output_dim=1)(user_input)\n",
    "item_bias = Embedding(input_dim=n_products, output_dim=1)(item_input)\n",
    "\n",
    "user_bias_flat = Flatten()(user_bias)\n",
    "item_bias_flat = Flatten()(item_bias)\n",
    "\n",
    "# Dot product of user and item vectors\n",
    "dot_product = Dot(axes=1)([user_vector, item_vector])\n",
    "\n",
    "# Add the biases and dot product\n",
    "prediction = Add()([dot_product, user_bias_flat, item_bias_flat])\n",
    "\n",
    "# Define the model\n",
    "model = Model(inputs=[user_input, item_input], outputs=prediction)\n",
    "\n",
    "# Compile the model\n",
    "model.compile(optimizer=Adam(learning_rate=lr), loss='mean_squared_error')\n",
    "\n",
    "# Print model summary\n",
    "model.summary()"
   ]
  },
  {
   "cell_type": "code",
   "execution_count": 4,
   "metadata": {},
   "outputs": [
    {
     "name": "stdout",
     "output_type": "stream",
     "text": [
      "Epoch 1/15\n",
      "634/634 [==============================] - 9s 13ms/step - loss: 14.3186 - val_loss: 11.9606\n",
      "Epoch 2/15\n",
      "634/634 [==============================] - 8s 13ms/step - loss: 7.4075 - val_loss: 8.9762\n",
      "Epoch 3/15\n",
      "634/634 [==============================] - 9s 14ms/step - loss: 2.6609 - val_loss: 8.4019\n",
      "Epoch 4/15\n",
      "634/634 [==============================] - 7s 12ms/step - loss: 0.8703 - val_loss: 8.1814\n",
      "Epoch 5/15\n",
      "634/634 [==============================] - 8s 13ms/step - loss: 0.3315 - val_loss: 8.0774\n",
      "Epoch 6/15\n",
      "634/634 [==============================] - 7s 12ms/step - loss: 0.2010 - val_loss: 7.9188\n",
      "Epoch 7/15\n",
      "634/634 [==============================] - 9s 14ms/step - loss: 0.2238 - val_loss: 7.8012\n",
      "Epoch 8/15\n",
      "634/634 [==============================] - 8s 13ms/step - loss: 0.3093 - val_loss: 7.5382\n",
      "Epoch 9/15\n",
      "634/634 [==============================] - 9s 14ms/step - loss: 0.3621 - val_loss: 7.3634\n",
      "Epoch 10/15\n",
      "634/634 [==============================] - 8s 12ms/step - loss: 0.3540 - val_loss: 7.1368\n",
      "Epoch 11/15\n",
      "634/634 [==============================] - 9s 13ms/step - loss: 0.3252 - val_loss: 6.9901\n",
      "Epoch 12/15\n",
      "634/634 [==============================] - 8s 13ms/step - loss: 0.2884 - val_loss: 6.8215\n",
      "Epoch 13/15\n",
      "634/634 [==============================] - 9s 14ms/step - loss: 0.2755 - val_loss: 6.6809\n",
      "Epoch 14/15\n",
      "634/634 [==============================] - 8s 13ms/step - loss: 0.2663 - val_loss: 6.5408\n",
      "Epoch 15/15\n",
      "634/634 [==============================] - 10s 15ms/step - loss: 0.2647 - val_loss: 6.4090\n"
     ]
    }
   ],
   "source": [
    "# 将用户和物品转换为整数 ID\n",
    "users = data_train[\"userId_encode\"].values\n",
    "products = data_train[\"productId_encode\"].values\n",
    "score = data_train[\"score\"].values\n",
    "\n",
    "# 创建并训练模型\n",
    "history = model.fit([users, products], score, epochs=15, batch_size=256,validation_split=0.1)"
   ]
  },
  {
   "cell_type": "code",
   "execution_count": 5,
   "metadata": {},
   "outputs": [
    {
     "data": {
      "image/png": "[encoded data removed]",
      "text/plain": [
       "<Figure size 800x600 with 1 Axes>"
      ]
     },
     "metadata": {},
     "output_type": "display_data"
    }
   ],
   "source": [
    "# Plot the learning curves\n",
    "fig = plt.figure(figsize=(8, 6))\n",
    "plt.plot(history.history['loss'], label='Training loss(BiasSVD)')\n",
    "plt.plot(history.history['val_loss'], label='Validation loss(BiasSVD)')\n",
    "plt.xlabel(\"Epoch\")\n",
    "plt.legend()\n",
    "plt.ylabel(\"MSE\")\n",
    "plt.title(\"Training Loss vs epoch\")\n",
    "plt.show()"
   ]
  },
  {
   "cell_type": "code",
   "execution_count": 6,
   "metadata": {},
   "outputs": [
    {
     "name": "stdout",
     "output_type": "stream",
     "text": [
      "637/637 [==============================] - 1s 1ms/step\n",
      "Predicted Rating: [[1.9638588]\n",
      " [4.506229 ]\n",
      " [2.104436 ]\n",
      " ...\n",
      " [2.7448437]\n",
      " [1.7000437]\n",
      " [2.7916026]]\n"
     ]
    }
   ],
   "source": [
    "# 预测用户对产品的评分\n",
    "predicted_rating = model.predict([data_test[\"userId_encode\"].values[:], data_test[\"productId_encode\"].values[:]])  # 0 表示 user_1，1 表示 product_2\n",
    "print(f'Predicted Rating: {predicted_rating}')"
   ]
  },
  {
   "cell_type": "code",
   "execution_count": 9,
   "metadata": {},
   "outputs": [
    {
     "name": "stdout",
     "output_type": "stream",
     "text": [
      "使用BiasSVD预测的MAE: 1.7334591196777516\n",
      "使用BiasSVD预测的MSE: 4.703525477104974\n",
      "使用BiasSVD预测的RMSE: 2.168761277113038\n"
     ]
    }
   ],
   "source": [
    "bias_svd_mae_0=(abs(data_test[\"score\"].values-predicted_rating.reshape(-1))).sum()/len(data_test)\n",
    "bias_svd_mse_0=(((data_test[\"score\"].values-predicted_rating.reshape(-1))**2).sum())/len(data_test)\n",
    "bias_svd_rmse_0=np.sqrt(bias_svd_mse_0)\n",
    "print(\"使用BiasSVD预测的MAE:\",bias_svd_mae_0)\n",
    "print(\"使用BiasSVD预测的MSE:\",bias_svd_mse_0)\n",
    "print(\"使用BiasSVD预测的RMSE:\",bias_svd_rmse_0)"
   ]
  },
  {
   "cell_type": "code",
   "execution_count": 10,
   "metadata": {},
   "outputs": [
    {
     "name": "stderr",
     "output_type": "stream",
     "text": [
      "d:\\ana\\envs\\python\\lib\\site-packages\\keras\\src\\engine\\training.py:3000: UserWarning: You are saving your model as an HDF5 file via `model.save()`. This file format is considered legacy. We recommend using instead the native Keras format, e.g. `model.save('my_model.keras')`.\n",
      "  saving_api.save_model(\n"
     ]
    }
   ],
   "source": [
    "# 保存模型\n",
    "model.save(\"bias_svd_model_no_regu.h5\")"
   ]
  },
  {
   "cell_type": "markdown",
   "metadata": {},
   "source": [
    "### BiasSVD有$\\sum_u\\|p_u\\|^2 + \\sum_i \\|q_i\\|^2$ 正则化 "
   ]
  },
  {
   "cell_type": "code",
   "execution_count": 11,
   "metadata": {},
   "outputs": [
    {
     "name": "stdout",
     "output_type": "stream",
     "text": [
      "Model: \"model_1\"\n",
      "__________________________________________________________________________________________________\n",
      " Layer (type)                Output Shape                 Param #   Connected to                  \n",
      "==================================================================================================\n",
      " input_3 (InputLayer)        [(None, 1)]                  0         []                            \n",
      "                                                                                                  \n",
      " input_4 (InputLayer)        [(None, 1)]                  0         []                            \n",
      "                                                                                                  \n",
      " embedding_4 (Embedding)     (None, 1, 5)                 827665    ['input_3[0][0]']             \n",
      "                                                                                                  \n",
      " embedding_5 (Embedding)     (None, 1, 5)                 187560    ['input_4[0][0]']             \n",
      "                                                                                                  \n",
      " flatten_4 (Flatten)         (None, 5)                    0         ['embedding_4[0][0]']         \n",
      "                                                                                                  \n",
      " flatten_5 (Flatten)         (None, 5)                    0         ['embedding_5[0][0]']         \n",
      "                                                                                                  \n",
      " embedding_6 (Embedding)     (None, 1, 1)                 165533    ['input_3[0][0]']             \n",
      "                                                                                                  \n",
      " embedding_7 (Embedding)     (None, 1, 1)                 37512     ['input_4[0][0]']             \n",
      "                                                                                                  \n",
      " dot_1 (Dot)                 (None, 1)                    0         ['flatten_4[0][0]',           \n",
      "                                                                     'flatten_5[0][0]']           \n",
      "                                                                                                  \n",
      " flatten_6 (Flatten)         (None, 1)                    0         ['embedding_6[0][0]']         \n",
      "                                                                                                  \n",
      " flatten_7 (Flatten)         (None, 1)                    0         ['embedding_7[0][0]']         \n",
      "                                                                                                  \n",
      " add_1 (Add)                 (None, 1)                    0         ['dot_1[0][0]',               \n",
      "                                                                     'flatten_6[0][0]',           \n",
      "                                                                     'flatten_7[0][0]']           \n",
      "                                                                                                  \n",
      "==================================================================================================\n",
      "Total params: 1218270 (4.65 MB)\n",
      "Trainable params: 1218270 (4.65 MB)\n",
      "Non-trainable params: 0 (0.00 Byte)\n",
      "__________________________________________________________________________________________________\n"
     ]
    }
   ],
   "source": [
    "# 用户数和物品数\n",
    "n_users = data_train[\"userId_encode\"].unique().shape[0]\n",
    "n_products = data_train[\"productId_encode\"].unique().shape[0]\n",
    "# 隐藏层节点数\n",
    "n_factors = 5\n",
    "# 学习率\n",
    "lr = 0.01\n",
    "# 正则项系数\n",
    "bias_svd_lambda = 0.1\n",
    "\n",
    "user_input = Input(shape=(1,))\n",
    "item_input = Input(shape=(1,))\n",
    "\n",
    "# Embedding layers for users and items\n",
    "user_embedding = Embedding(input_dim=n_users, output_dim=n_factors, \n",
    "                           embeddings_regularizer=l2(bias_svd_lambda))(user_input)\n",
    "item_embedding = Embedding(input_dim=n_products, output_dim=n_factors, \n",
    "                           embeddings_regularizer=l2(bias_svd_lambda))(item_input)\n",
    "# Flatten the embedding layers\n",
    "user_vector = Flatten()(user_embedding)\n",
    "item_vector = Flatten()(item_embedding)\n",
    "\n",
    "# Create the bias terms\n",
    "user_bias = Embedding(input_dim=n_users, output_dim=1)(user_input)\n",
    "item_bias = Embedding(input_dim=n_products, output_dim=1)(item_input)\n",
    "\n",
    "user_bias_flat = Flatten()(user_bias)\n",
    "item_bias_flat = Flatten()(item_bias)\n",
    "\n",
    "# Dot product of user and item vectors\n",
    "dot_product = Dot(axes=1)([user_vector, item_vector])\n",
    "\n",
    "# Add the biases and dot product\n",
    "prediction = Add()([dot_product, user_bias_flat, item_bias_flat])\n",
    "\n",
    "# Define the model\n",
    "model = Model(inputs=[user_input, item_input], outputs=prediction)\n",
    "\n",
    "# Compile the model\n",
    "model.compile(optimizer=Adam(learning_rate=lr), loss='mean_squared_error')\n",
    "\n",
    "# Print model summary\n",
    "model.summary()"
   ]
  },
  {
   "cell_type": "code",
   "execution_count": 12,
   "metadata": {},
   "outputs": [
    {
     "name": "stdout",
     "output_type": "stream",
     "text": [
      "Epoch 1/15\n",
      "634/634 [==============================] - 10s 15ms/step - loss: 14.7826 - val_loss: 11.9544\n",
      "Epoch 2/15\n",
      "634/634 [==============================] - 11s 18ms/step - loss: 8.5863 - val_loss: 8.4197\n",
      "Epoch 3/15\n",
      "634/634 [==============================] - 12s 18ms/step - loss: 5.5601 - val_loss: 6.6574\n",
      "Epoch 4/15\n",
      "634/634 [==============================] - 11s 17ms/step - loss: 3.7657 - val_loss: 5.6514\n",
      "Epoch 5/15\n",
      "634/634 [==============================] - 11s 18ms/step - loss: 2.6001 - val_loss: 5.0295\n",
      "Epoch 6/15\n",
      "634/634 [==============================] - 12s 19ms/step - loss: 1.8029 - val_loss: 4.6254\n",
      "Epoch 7/15\n",
      "634/634 [==============================] - 12s 19ms/step - loss: 1.2434 - val_loss: 4.3555\n",
      "Epoch 8/15\n",
      "634/634 [==============================] - 11s 18ms/step - loss: 0.8483 - val_loss: 4.1728\n",
      "Epoch 9/15\n",
      "634/634 [==============================] - 12s 19ms/step - loss: 0.5682 - val_loss: 4.0478\n",
      "Epoch 10/15\n",
      "634/634 [==============================] - 11s 17ms/step - loss: 0.3737 - val_loss: 3.9687\n",
      "Epoch 11/15\n",
      "634/634 [==============================] - 10s 15ms/step - loss: 0.2426 - val_loss: 3.9291\n",
      "Epoch 12/15\n",
      "634/634 [==============================] - 10s 15ms/step - loss: 0.1576 - val_loss: 3.9057\n",
      "Epoch 13/15\n",
      "634/634 [==============================] - 11s 18ms/step - loss: 0.1048 - val_loss: 3.9058\n",
      "Epoch 14/15\n",
      "634/634 [==============================] - 10s 16ms/step - loss: 0.0751 - val_loss: 3.9170\n",
      "Epoch 15/15\n",
      "634/634 [==============================] - 10s 16ms/step - loss: 0.0602 - val_loss: 3.9256\n"
     ]
    }
   ],
   "source": [
    "# 将用户和物品转换为整数 ID\n",
    "users = data_train[\"userId_encode\"].values\n",
    "products = data_train[\"productId_encode\"].values\n",
    "score = data_train[\"score\"].values\n",
    "\n",
    "# 创建并训练模型\n",
    "history = model.fit([users, products], score, epochs=15, batch_size=256,validation_split=0.1)"
   ]
  },
  {
   "cell_type": "code",
   "execution_count": 13,
   "metadata": {},
   "outputs": [
    {
     "name": "stdout",
     "output_type": "stream",
     "text": [
      "637/637 [==============================] - 1s 808us/step\n",
      "Predicted Rating: [[4.2267537]\n",
      " [5.095166 ]\n",
      " [1.85455  ]\n",
      " ...\n",
      " [3.1139169]\n",
      " [4.0082135]\n",
      " [4.674822 ]]\n"
     ]
    }
   ],
   "source": [
    "# 预测用户对产品的评分\n",
    "predicted_rating = model.predict([data_test[\"userId_encode\"].values[:], data_test[\"productId_encode\"].values[:]])  # 0 表示 user_1，1 表示 product_2\n",
    "print(f'Predicted Rating: {predicted_rating}')"
   ]
  },
  {
   "cell_type": "code",
   "execution_count": 14,
   "metadata": {},
   "outputs": [
    {
     "data": {
      "image/png": "[encoded data removed]",
      "text/plain": [
       "<Figure size 800x600 with 1 Axes>"
      ]
     },
     "metadata": {},
     "output_type": "display_data"
    }
   ],
   "source": [
    "# Plot the learning curves\n",
    "fig = plt.figure(figsize=(8, 6))\n",
    "plt.plot(history.history['loss'], label='Training loss(BiasSVD)')\n",
    "plt.plot(history.history['val_loss'], label='Validation loss(BiasSVD)')\n",
    "plt.xlabel(\"Epoch\")\n",
    "plt.legend()\n",
    "plt.ylabel(\"MSE\")\n",
    "plt.title(\"Training Loss vs epoch\")\n",
    "plt.show()"
   ]
  },
  {
   "cell_type": "code",
   "execution_count": 18,
   "metadata": {},
   "outputs": [
    {
     "name": "stdout",
     "output_type": "stream",
     "text": [
      "使用BiasSVD预测的MAE: 0.961590217044084\n",
      "使用BiasSVD预测的MSE: 1.9072885680078813\n",
      "使用BiasSVD预测的RMSE: 1.3810461860516763\n"
     ]
    }
   ],
   "source": [
    "bias_svd_mae=(abs(data_test[\"score\"].values-predicted_rating.reshape(-1))).sum()/len(data_test)\n",
    "bias_svd_mse=((data_test[\"score\"].values-predicted_rating.reshape(-1))**2).sum()/len(data_test)\n",
    "bias_svd_rmse=np.sqrt(bias_svd_mse)\n",
    "print(\"使用BiasSVD预测的MAE:\",bias_svd_mae)\n",
    "print(\"使用BiasSVD预测的MSE:\",bias_svd_mse)\n",
    "print(\"使用BiasSVD预测的RMSE:\",bias_svd_rmse)"
   ]
  },
  {
   "cell_type": "code",
   "execution_count": 19,
   "metadata": {},
   "outputs": [],
   "source": [
    "# 保存模型\n",
    "model.save(\"bias_svd_model_regu.h5\")"
   ]
  },
  {
   "cell_type": "markdown",
   "metadata": {},
   "source": [
    "* 在当前超参下，加入正则化的BiasSVD预测效果比单纯的BiasSVD更好，可以有效防止模型过拟合\n",
    "* 使用BiasSVD预测的MAE: 1.550458220460481\n",
    "* 使用BiasSVD(有$\\sum_u\\|p_u\\|^2 + \\sum_i \\|q_i\\|^2$正则化)预测的MAE: 0.8741933453862178\n",
    "* 尝试使用BiasSVD(有$\\sum_u\\|p_u\\|^2 + \\sum_i \\|q_i\\|^2+ \\sum_u  b_u^2 +\\sum_i b_i^2$正则化)，发现预测的效果不如无正则化"
   ]
  }
 ],
 "metadata": {
  "kernelspec": {
   "display_name": "python",
   "language": "python",
   "name": "python3"
  },
  "language_info": {
   "codemirror_mode": {
    "name": "ipython",
    "version": 3
   },
   "file_extension": ".py",
   "mimetype": "text/x-python",
   "name": "python",
   "nbconvert_exporter": "python",
   "pygments_lexer": "ipython3",
   "version": "3.8.18"
  }
 },
 "nbformat": 4,
 "nbformat_minor": 2
}
