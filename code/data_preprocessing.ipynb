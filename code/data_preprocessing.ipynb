{
 "cells": [
  {
   "cell_type": "markdown",
   "metadata": {},
   "source": [
    "# 商务智能：Final Project \n",
    "* 成员：\n",
    "    * 吴越 2024211326    \n",
    "    * 张铭轩 2024211332     \n",
    "    * 卜方婧 2024211340\n",
    "* 日期：2024.10.22\n",
    "\n",
    "# Goal\n",
    "* 基于Amazon在线评论数据集，建立推荐系统。\n",
    "   \n",
    "# 步骤\n",
    "* 数据预处理：\n",
    "    * 处理文本文件：将brands.txt & categories.txt转换为csv文件，categories文件只保留一级分类；\n",
    "    * \n",
    "    "
   ]
  },
  {
   "cell_type": "markdown",
   "metadata": {},
   "source": [
    "# 加载包"
   ]
  },
  {
   "cell_type": "code",
   "execution_count": 1,
   "metadata": {},
   "outputs": [],
   "source": [
    "import pandas as pd\n",
    "import numpy as np\n",
    "import matplotlib.pyplot as plt\n",
    "import tensorflow as tf\n",
    "from sklearn.preprocessing import OneHotEncoder\n",
    "from sklearn.preprocessing import LabelEncoder\n",
    "from transformers import BertTokenizer, TFBertModel\n",
    "from sentence_transformers import SentenceTransformer, models"
   ]
  },
  {
   "cell_type": "markdown",
   "metadata": {},
   "source": [
    "# 数据预处理"
   ]
  },
  {
   "cell_type": "markdown",
   "metadata": {},
   "source": [
    "## 处理文本文件\n",
    "* brands.txt & categories.txt"
   ]
  },
  {
   "cell_type": "code",
   "execution_count": 16,
   "metadata": {},
   "outputs": [],
   "source": [
    "# brand.txt预处理，保存为csv文件\n",
    "brands = [] # 此列表保存brands信息，其中每个元素对应一行数据，读取为含两个元素的列表\n",
    "with open('./data/brands.txt', 'r',encoding = 'ISO-8859-1') as f:\n",
    "    for line in f.readlines():\n",
    "        line = line.strip('\\n').split(\" \", 1) # 每一行第一个元素是product/productId，第二个元素是Product/Brand\n",
    "        brands.append(line)\n",
    "        \n",
    "brands_df = pd.DataFrame(brands, columns=['productId', 'brand']) \n",
    "brands_df.to_csv('./data/brands_df.csv')"
   ]
  },
  {
   "cell_type": "code",
   "execution_count": 17,
   "metadata": {},
   "outputs": [
    {
     "data": {
      "text/html": [
       "<div>\n",
       "<style scoped>\n",
       "    .dataframe tbody tr th:only-of-type {\n",
       "        vertical-align: middle;\n",
       "    }\n",
       "\n",
       "    .dataframe tbody tr th {\n",
       "        vertical-align: top;\n",
       "    }\n",
       "\n",
       "    .dataframe thead th {\n",
       "        text-align: right;\n",
       "    }\n",
       "</style>\n",
       "<table border=\"1\" class=\"dataframe\">\n",
       "  <thead>\n",
       "    <tr style=\"text-align: right;\">\n",
       "      <th></th>\n",
       "      <th>productId</th>\n",
       "      <th>brand</th>\n",
       "    </tr>\n",
       "  </thead>\n",
       "  <tbody>\n",
       "    <tr>\n",
       "      <th>0</th>\n",
       "      <td>B0000A0QE6</td>\n",
       "      <td>Jos. A. Bank</td>\n",
       "    </tr>\n",
       "    <tr>\n",
       "      <th>1</th>\n",
       "      <td>B0000A0QE2</td>\n",
       "      <td>Jos. A. Bank</td>\n",
       "    </tr>\n",
       "    <tr>\n",
       "      <th>2</th>\n",
       "      <td>B0000C2LF3</td>\n",
       "      <td>Canyon Ridge</td>\n",
       "    </tr>\n",
       "    <tr>\n",
       "      <th>3</th>\n",
       "      <td>B0000C2LF7</td>\n",
       "      <td>Canyon Ridge</td>\n",
       "    </tr>\n",
       "    <tr>\n",
       "      <th>4</th>\n",
       "      <td>B0006V0BA2</td>\n",
       "      <td>necessary objects</td>\n",
       "    </tr>\n",
       "  </tbody>\n",
       "</table>\n",
       "</div>"
      ],
      "text/plain": [
       "    productId              brand\n",
       "0  B0000A0QE6       Jos. A. Bank\n",
       "1  B0000A0QE2       Jos. A. Bank\n",
       "2  B0000C2LF3       Canyon Ridge\n",
       "3  B0000C2LF7       Canyon Ridge\n",
       "4  B0006V0BA2  necessary objects"
      ]
     },
     "execution_count": 17,
     "metadata": {},
     "output_type": "execute_result"
    }
   ],
   "source": [
    "brands_df.head()"
   ]
  },
  {
   "cell_type": "code",
   "execution_count": 9,
   "metadata": {},
   "outputs": [],
   "source": [
    "# categories.txt预处理，保存为csv文件\n",
    "categories_origin = [] \n",
    "pair = 0\n",
    "with open('./data/categories.txt', 'r',encoding = 'ISO-8859-1') as f:\n",
    "    for line in f.readlines():  \n",
    "        line = line.strip('\\n')\n",
    "        # 每次遇到新product时，产生一个pair列表，\n",
    "        # 其中第一个元素是productId，后面的元素不固定长，分别是其所属的类别\n",
    "        \n",
    "        if line[0]==\" \":   # 如果遇到类别所属行，则将改行空格去除，在pair中添加该类别\n",
    "            line = line.strip()\n",
    "            pair.append(line)\n",
    "        else: # 如果遇到新product所属行，则在categories_origin中添加现有（上一个）product信息，并重新设置pair\n",
    "            categories_origin.append(pair)\n",
    "            pair = []\n",
    "            pair.append(line)\n",
    "    \n",
    "    categories_origin.append(pair) # 最后一个product的数据\n",
    "        \n",
    "categories_origin.pop(0)       \n",
    "\n",
    "# 由于每个product对应很多类别，所以每个product每个类别变为一个新行，其层数（能填的列数）不固定\n",
    "first_category_set = set()\n",
    "categories = []\n",
    "no_categories_index = set()\n",
    "l = len(categories_origin)\n",
    "for i in range(l):\n",
    "    i_list = categories_origin[i] # 和之前的pair对应，第一个元素是productId，后面的元素不固定长，分别是其所属的类别\n",
    "    productId_i = i_list[0] # productId\n",
    "    category_num_i = len(i_list)-1 # 该product所属类别数\n",
    "    for j in range(category_num_i): # 对该product的每个类别\n",
    "        categories_i_j = i_list[j+1].split(',')\n",
    "        categories_i_j = [x.strip() for x in categories_i_j]\n",
    "        if categories_i_j[0]!='':\n",
    "            first_category_set.add(categories_i_j[0])\n",
    "            categories.append([productId_i.strip()]+categories_i_j) # 产生一个新行\n",
    "        else:\n",
    "            #print(i_list,'该product没有所属类别信息')\n",
    "            no_categories_index.add(i)\n",
    "\n",
    "categories_df = pd.DataFrame(categories)"
   ]
  },
  {
   "cell_type": "code",
   "execution_count": 10,
   "metadata": {},
   "outputs": [
    {
     "name": "stdout",
     "output_type": "stream",
     "text": [
      "共有2441053个product\n",
      "其中有2619个product没有类别信息，占比0.001072897638846842，删去\n",
      "剩余2438434个product\n"
     ]
    }
   ],
   "source": [
    "print(f'共有{len(categories_origin)}个product')\n",
    "print(f'其中有{len(no_categories_index)}个product没有类别信息，占比{len(no_categories_index)/len(categories_origin)}，删去')\n",
    "categories_origin_update = [categories_origin[i] for i in range(len(categories_origin)) if i not in no_categories_index]\n",
    "print(f'剩余{len(categories_origin_update)}个product')"
   ]
  },
  {
   "cell_type": "code",
   "execution_count": 20,
   "metadata": {},
   "outputs": [],
   "source": [
    "categories_df = categories_df.iloc[:,:2]\n",
    "categories_df.columns = ['productId', 'categories']\n",
    "categories_df.to_csv('./data/categories_df.csv')"
   ]
  },
  {
   "cell_type": "code",
   "execution_count": 21,
   "metadata": {},
   "outputs": [
    {
     "data": {
      "text/html": [
       "<div>\n",
       "<style scoped>\n",
       "    .dataframe tbody tr th:only-of-type {\n",
       "        vertical-align: middle;\n",
       "    }\n",
       "\n",
       "    .dataframe tbody tr th {\n",
       "        vertical-align: top;\n",
       "    }\n",
       "\n",
       "    .dataframe thead th {\n",
       "        text-align: right;\n",
       "    }\n",
       "</style>\n",
       "<table border=\"1\" class=\"dataframe\">\n",
       "  <thead>\n",
       "    <tr style=\"text-align: right;\">\n",
       "      <th></th>\n",
       "      <th>productId</th>\n",
       "      <th>categories</th>\n",
       "    </tr>\n",
       "  </thead>\n",
       "  <tbody>\n",
       "    <tr>\n",
       "      <th>0</th>\n",
       "      <td>B0027DQHA0</td>\n",
       "      <td>Movies &amp; TV</td>\n",
       "    </tr>\n",
       "    <tr>\n",
       "      <th>1</th>\n",
       "      <td>B0027DQHA0</td>\n",
       "      <td>Music</td>\n",
       "    </tr>\n",
       "    <tr>\n",
       "      <th>2</th>\n",
       "      <td>0756400120</td>\n",
       "      <td>Books</td>\n",
       "    </tr>\n",
       "    <tr>\n",
       "      <th>3</th>\n",
       "      <td>0756400120</td>\n",
       "      <td>Books</td>\n",
       "    </tr>\n",
       "    <tr>\n",
       "      <th>4</th>\n",
       "      <td>0756400120</td>\n",
       "      <td>Books</td>\n",
       "    </tr>\n",
       "  </tbody>\n",
       "</table>\n",
       "</div>"
      ],
      "text/plain": [
       "    productId   categories\n",
       "0  B0027DQHA0  Movies & TV\n",
       "1  B0027DQHA0        Music\n",
       "2  0756400120        Books\n",
       "3  0756400120        Books\n",
       "4  0756400120        Books"
      ]
     },
     "execution_count": 21,
     "metadata": {},
     "output_type": "execute_result"
    }
   ],
   "source": [
    "categories_df.head()"
   ]
  },
  {
   "cell_type": "markdown",
   "metadata": {},
   "source": [
    "## One-Hot\n",
    "* categories_1：product i 如果属于category c,则对应category_c=1\n",
    "* brand: 由于brand空值较多（达到99%以上），只考虑评论数量最多的10个品牌；product i 如果属于brand b，则对应brand_b=1"
   ]
  },
  {
   "cell_type": "markdown",
   "metadata": {},
   "source": [
    "### Categories"
   ]
  },
  {
   "cell_type": "code",
   "execution_count": 120,
   "metadata": {},
   "outputs": [
    {
     "data": {
      "text/html": [
       "<div>\n",
       "<style scoped>\n",
       "    .dataframe tbody tr th:only-of-type {\n",
       "        vertical-align: middle;\n",
       "    }\n",
       "\n",
       "    .dataframe tbody tr th {\n",
       "        vertical-align: top;\n",
       "    }\n",
       "\n",
       "    .dataframe thead th {\n",
       "        text-align: right;\n",
       "    }\n",
       "</style>\n",
       "<table border=\"1\" class=\"dataframe\">\n",
       "  <thead>\n",
       "    <tr style=\"text-align: right;\">\n",
       "      <th></th>\n",
       "      <th>productId</th>\n",
       "      <th>categories</th>\n",
       "    </tr>\n",
       "  </thead>\n",
       "  <tbody>\n",
       "    <tr>\n",
       "      <th>0</th>\n",
       "      <td>B0027DQHA0</td>\n",
       "      <td>Movies &amp; TV</td>\n",
       "    </tr>\n",
       "    <tr>\n",
       "      <th>1</th>\n",
       "      <td>B0027DQHA0</td>\n",
       "      <td>Music</td>\n",
       "    </tr>\n",
       "  </tbody>\n",
       "</table>\n",
       "</div>"
      ],
      "text/plain": [
       "    productId   categories\n",
       "0  B0027DQHA0  Movies & TV\n",
       "1  B0027DQHA0        Music"
      ]
     },
     "execution_count": 120,
     "metadata": {},
     "output_type": "execute_result"
    }
   ],
   "source": [
    "# 处理categories\n",
    "categories_df = pd.read_csv('./data/categories_df.csv',index_col=0)\n",
    "categories_df.head(2)"
   ]
  },
  {
   "cell_type": "code",
   "execution_count": 126,
   "metadata": {},
   "outputs": [
    {
     "name": "stderr",
     "output_type": "stream",
     "text": [
      "d:\\ana\\envs\\python\\lib\\site-packages\\sklearn\\preprocessing\\_encoders.py:975: FutureWarning: `sparse` was renamed to `sparse_output` in version 1.2 and will be removed in 1.4. `sparse_output` is ignored unless you leave `sparse` to its default value.\n",
      "  warnings.warn(\n"
     ]
    }
   ],
   "source": [
    "# one-hot编码categories\n",
    "cat_encoder = OneHotEncoder(sparse=False)\n",
    "cat_encoded_array = cat_encoder.fit_transform(categories_df[['categories']])\n",
    "cat_encoded_df = pd.DataFrame(cat_encoded_array, columns=cat_encoder.get_feature_names_out(['categories']))\n",
    "cat_encoded_df = pd.concat([categories_df, cat_encoded_df], axis=1)"
   ]
  },
  {
   "cell_type": "code",
   "execution_count": 137,
   "metadata": {},
   "outputs": [],
   "source": [
    "cat_encoded_df.drop(columns=['categories'], inplace=True)\n",
    "cat_encoded_df=cat_encoded_df.groupby('productId').sum()\n",
    "#cat_encoded_df大于1的元素变成1(类别数据存在重复)\n",
    "cat_encoded_df[cat_encoded_df>1]=1\n",
    "cat_encoded_df.reset_index(inplace=True)"
   ]
  },
  {
   "cell_type": "code",
   "execution_count": 170,
   "metadata": {},
   "outputs": [
    {
     "data": {
      "text/html": [
       "<div>\n",
       "<style scoped>\n",
       "    .dataframe tbody tr th:only-of-type {\n",
       "        vertical-align: middle;\n",
       "    }\n",
       "\n",
       "    .dataframe tbody tr th {\n",
       "        vertical-align: top;\n",
       "    }\n",
       "\n",
       "    .dataframe thead th {\n",
       "        text-align: right;\n",
       "    }\n",
       "</style>\n",
       "<table border=\"1\" class=\"dataframe\">\n",
       "  <thead>\n",
       "    <tr style=\"text-align: right;\">\n",
       "      <th></th>\n",
       "      <th>productId</th>\n",
       "      <th>categories_All Electronics</th>\n",
       "      <th>categories_Alternative Rock</th>\n",
       "      <th>categories_Amazon Instant Video</th>\n",
       "      <th>categories_Amazon MP3 Store</th>\n",
       "      <th>categories_Appliances</th>\n",
       "      <th>categories_Arts</th>\n",
       "      <th>categories_Automotive</th>\n",
       "      <th>categories_Baby</th>\n",
       "      <th>categories_Baby Products</th>\n",
       "      <th>...</th>\n",
       "      <th>categories_Rap &amp; Hip-Hop</th>\n",
       "      <th>categories_Rock</th>\n",
       "      <th>categories_Shoes</th>\n",
       "      <th>categories_Software</th>\n",
       "      <th>categories_Sports &amp; Outdoors</th>\n",
       "      <th>categories_Tools &amp; Home Improvement</th>\n",
       "      <th>categories_Toys &amp; Games</th>\n",
       "      <th>categories_Video Games</th>\n",
       "      <th>categories_Watches</th>\n",
       "      <th>categories_World Music</th>\n",
       "    </tr>\n",
       "  </thead>\n",
       "  <tbody>\n",
       "    <tr>\n",
       "      <th>0</th>\n",
       "      <td>0000000868</td>\n",
       "      <td>0.0</td>\n",
       "      <td>0.0</td>\n",
       "      <td>0.0</td>\n",
       "      <td>0.0</td>\n",
       "      <td>0.0</td>\n",
       "      <td>0.0</td>\n",
       "      <td>0.0</td>\n",
       "      <td>0.0</td>\n",
       "      <td>0.0</td>\n",
       "      <td>...</td>\n",
       "      <td>0.0</td>\n",
       "      <td>0.0</td>\n",
       "      <td>0.0</td>\n",
       "      <td>0.0</td>\n",
       "      <td>0.0</td>\n",
       "      <td>0.0</td>\n",
       "      <td>0.0</td>\n",
       "      <td>0.0</td>\n",
       "      <td>0.0</td>\n",
       "      <td>0.0</td>\n",
       "    </tr>\n",
       "    <tr>\n",
       "      <th>1</th>\n",
       "      <td>0000020214</td>\n",
       "      <td>0.0</td>\n",
       "      <td>0.0</td>\n",
       "      <td>0.0</td>\n",
       "      <td>0.0</td>\n",
       "      <td>0.0</td>\n",
       "      <td>0.0</td>\n",
       "      <td>0.0</td>\n",
       "      <td>0.0</td>\n",
       "      <td>0.0</td>\n",
       "      <td>...</td>\n",
       "      <td>0.0</td>\n",
       "      <td>0.0</td>\n",
       "      <td>0.0</td>\n",
       "      <td>0.0</td>\n",
       "      <td>0.0</td>\n",
       "      <td>0.0</td>\n",
       "      <td>0.0</td>\n",
       "      <td>0.0</td>\n",
       "      <td>0.0</td>\n",
       "      <td>0.0</td>\n",
       "    </tr>\n",
       "  </tbody>\n",
       "</table>\n",
       "<p>2 rows × 63 columns</p>\n",
       "</div>"
      ],
      "text/plain": [
       "    productId  categories_All Electronics  categories_Alternative Rock  \\\n",
       "0  0000000868                         0.0                          0.0   \n",
       "1  0000020214                         0.0                          0.0   \n",
       "\n",
       "   categories_Amazon Instant Video  categories_Amazon MP3 Store  \\\n",
       "0                              0.0                          0.0   \n",
       "1                              0.0                          0.0   \n",
       "\n",
       "   categories_Appliances  categories_Arts  categories_Automotive  \\\n",
       "0                    0.0              0.0                    0.0   \n",
       "1                    0.0              0.0                    0.0   \n",
       "\n",
       "   categories_Baby  categories_Baby Products  ...  categories_Rap & Hip-Hop  \\\n",
       "0              0.0                       0.0  ...                       0.0   \n",
       "1              0.0                       0.0  ...                       0.0   \n",
       "\n",
       "   categories_Rock  categories_Shoes  categories_Software  \\\n",
       "0              0.0               0.0                  0.0   \n",
       "1              0.0               0.0                  0.0   \n",
       "\n",
       "   categories_Sports & Outdoors  categories_Tools & Home Improvement  \\\n",
       "0                           0.0                                  0.0   \n",
       "1                           0.0                                  0.0   \n",
       "\n",
       "   categories_Toys & Games  categories_Video Games  categories_Watches  \\\n",
       "0                      0.0                     0.0                 0.0   \n",
       "1                      0.0                     0.0                 0.0   \n",
       "\n",
       "   categories_World Music  \n",
       "0                     0.0  \n",
       "1                     0.0  \n",
       "\n",
       "[2 rows x 63 columns]"
      ]
     },
     "execution_count": 170,
     "metadata": {},
     "output_type": "execute_result"
    }
   ],
   "source": [
    "cat_encoded_df.head(2)"
   ]
  },
  {
   "cell_type": "markdown",
   "metadata": {},
   "source": [
    "### Brands\n",
    "* 由于brands空值占比较多，大于99%，故只考虑review数量前10的品牌，以刻画某些用户的品牌粘性\n",
    "* 生成10维向量，1表示product属于该品牌"
   ]
  },
  {
   "cell_type": "code",
   "execution_count": 143,
   "metadata": {},
   "outputs": [],
   "source": [
    "# 处理brands\n",
    "# products_reviews数据\n",
    "products_reviews = pd.read_csv('./data/products_reviews.csv',index_col=0)\n",
    "products_reviews.columns = ['productId', 'title', 'userId', 'profileName', 'helpfulness', 'score', 'time', 'summary', 'index']\n",
    "products_reviews.drop_duplicates(['productId', 'title', 'userId','score','time','summary', 'helpfulness'],inplace=True) #数据可能有重复，且对应index不同\n",
    "\n",
    "brands_df = pd.read_csv('./data/brands_df.csv',index_col=0)\n",
    "see_brands_count = pd.merge(products_reviews, brands_df, on='productId', how='left')"
   ]
  },
  {
   "cell_type": "code",
   "execution_count": 145,
   "metadata": {},
   "outputs": [
    {
     "name": "stdout",
     "output_type": "stream",
     "text": [
      "Percent of missing ''productId'' records is 0.0 %\n",
      "Percent of missing ''title'' records is 0.0059804 %\n",
      "Percent of missing ''userId'' records is 0.0 %\n",
      "Percent of missing ''profileName'' records is 0.0074755 %\n",
      "Percent of missing ''helpfulness'' records is 0.0 %\n",
      "Percent of missing ''score'' records is 0.0 %\n",
      "Percent of missing ''time'' records is 0.0 %\n",
      "Percent of missing ''summary'' records is 0.0019935 %\n",
      "Percent of missing ''index'' records is 0.0 %\n",
      "Percent of missing ''brand'' records is 99.27438 %\n"
     ]
    }
   ],
   "source": [
    "# 空值比例\n",
    "def showPercentageNan(colName, dtFrame):\n",
    "    perc = (dtFrame[colName].isnull().sum() / dtFrame.shape[0])\n",
    "    print(f\"Percent of missing ''{colName}'' records is {round(perc * 100,7)} %\")\n",
    "\n",
    "colNan = see_brands_count.columns.tolist()\n",
    "\n",
    "for col in colNan:\n",
    "    showPercentageNan(col, see_brands_count)"
   ]
  },
  {
   "cell_type": "code",
   "execution_count": 152,
   "metadata": {},
   "outputs": [],
   "source": [
    "# top 10\n",
    "select_brand=see_brands_count.groupby('brand')[\"index\"].count().sort_values(ascending=False).head(10).index"
   ]
  },
  {
   "cell_type": "code",
   "execution_count": 154,
   "metadata": {},
   "outputs": [],
   "source": [
    "brands_df[\"brand\"]=brands_df[\"brand\"].apply(lambda x: x if x in select_brand else np.nan)"
   ]
  },
  {
   "cell_type": "code",
   "execution_count": 157,
   "metadata": {},
   "outputs": [
    {
     "name": "stderr",
     "output_type": "stream",
     "text": [
      "d:\\ana\\envs\\python\\lib\\site-packages\\sklearn\\preprocessing\\_encoders.py:975: FutureWarning: `sparse` was renamed to `sparse_output` in version 1.2 and will be removed in 1.4. `sparse_output` is ignored unless you leave `sparse` to its default value.\n",
      "  warnings.warn(\n"
     ]
    }
   ],
   "source": [
    "# one-hot编码categories\n",
    "b_encoder = OneHotEncoder(sparse=False)\n",
    "b_encoded_array = b_encoder.fit_transform(brands_df[['brand']])\n",
    "b_encoded_df = pd.DataFrame(b_encoded_array, columns=b_encoder.get_feature_names_out(['brand']))\n",
    "b_encoded_df = pd.concat([brands_df, b_encoded_df], axis=1)"
   ]
  },
  {
   "cell_type": "code",
   "execution_count": 161,
   "metadata": {},
   "outputs": [],
   "source": [
    "b_encoded_df.drop(columns=['brand','brand_nan'], inplace=True)"
   ]
  },
  {
   "cell_type": "code",
   "execution_count": 169,
   "metadata": {},
   "outputs": [
    {
     "data": {
      "text/html": [
       "<div>\n",
       "<style scoped>\n",
       "    .dataframe tbody tr th:only-of-type {\n",
       "        vertical-align: middle;\n",
       "    }\n",
       "\n",
       "    .dataframe tbody tr th {\n",
       "        vertical-align: top;\n",
       "    }\n",
       "\n",
       "    .dataframe thead th {\n",
       "        text-align: right;\n",
       "    }\n",
       "</style>\n",
       "<table border=\"1\" class=\"dataframe\">\n",
       "  <thead>\n",
       "    <tr style=\"text-align: right;\">\n",
       "      <th></th>\n",
       "      <th>productId</th>\n",
       "      <th>brand_Carolyn Forsman</th>\n",
       "      <th>brand_Dakota</th>\n",
       "      <th>brand_Diesel</th>\n",
       "      <th>brand_Fossil</th>\n",
       "      <th>brand_Freestyle</th>\n",
       "      <th>brand_Great Eastern Entertainment</th>\n",
       "      <th>brand_Pro-Tec</th>\n",
       "      <th>brand_Serenity Crystals, Inc.</th>\n",
       "      <th>brand_Skagen</th>\n",
       "      <th>brand_Timbuk2</th>\n",
       "    </tr>\n",
       "  </thead>\n",
       "  <tbody>\n",
       "    <tr>\n",
       "      <th>0</th>\n",
       "      <td>B0000A0QE6</td>\n",
       "      <td>0.0</td>\n",
       "      <td>0.0</td>\n",
       "      <td>0.0</td>\n",
       "      <td>0.0</td>\n",
       "      <td>0.0</td>\n",
       "      <td>0.0</td>\n",
       "      <td>0.0</td>\n",
       "      <td>0.0</td>\n",
       "      <td>0.0</td>\n",
       "      <td>0.0</td>\n",
       "    </tr>\n",
       "    <tr>\n",
       "      <th>1</th>\n",
       "      <td>B0000A0QE2</td>\n",
       "      <td>0.0</td>\n",
       "      <td>0.0</td>\n",
       "      <td>0.0</td>\n",
       "      <td>0.0</td>\n",
       "      <td>0.0</td>\n",
       "      <td>0.0</td>\n",
       "      <td>0.0</td>\n",
       "      <td>0.0</td>\n",
       "      <td>0.0</td>\n",
       "      <td>0.0</td>\n",
       "    </tr>\n",
       "  </tbody>\n",
       "</table>\n",
       "</div>"
      ],
      "text/plain": [
       "    productId  brand_Carolyn Forsman  brand_Dakota  brand_Diesel  \\\n",
       "0  B0000A0QE6                    0.0           0.0           0.0   \n",
       "1  B0000A0QE2                    0.0           0.0           0.0   \n",
       "\n",
       "   brand_Fossil  brand_Freestyle  brand_Great Eastern Entertainment  \\\n",
       "0           0.0              0.0                                0.0   \n",
       "1           0.0              0.0                                0.0   \n",
       "\n",
       "   brand_Pro-Tec  brand_Serenity Crystals, Inc.  brand_Skagen  brand_Timbuk2  \n",
       "0            0.0                            0.0           0.0            0.0  \n",
       "1            0.0                            0.0           0.0            0.0  "
      ]
     },
     "execution_count": 169,
     "metadata": {},
     "output_type": "execute_result"
    }
   ],
   "source": [
    "b_encoded_df.head(2)"
   ]
  },
  {
   "cell_type": "markdown",
   "metadata": {},
   "source": [
    "## 合并数据\n",
    "* 以products_reviews为主文件，合并\n",
    "    * brands（b_encoded_df）,\n",
    "    * categories（cat_encoded_df）,\n",
    "    * reviews_text"
   ]
  },
  {
   "cell_type": "code",
   "execution_count": 173,
   "metadata": {},
   "outputs": [
    {
     "data": {
      "text/plain": [
       "(200656, 9)"
      ]
     },
     "execution_count": 173,
     "metadata": {},
     "output_type": "execute_result"
    }
   ],
   "source": [
    "products_reviews = pd.read_csv('./data/products_reviews.csv',index_col=0)\n",
    "products_reviews.columns = ['productId', 'title', 'userId', 'profileName', 'helpfulness', 'score', 'time', 'summary', 'index']\n",
    "products_reviews.drop_duplicates(['productId', 'title', 'userId','score','time','summary', 'helpfulness'],inplace=True) #数据可能有重复，且对应index不同\n",
    "products_reviews.shape"
   ]
  },
  {
   "cell_type": "code",
   "execution_count": 172,
   "metadata": {},
   "outputs": [
    {
     "data": {
      "text/plain": [
       "(200656, 71)"
      ]
     },
     "execution_count": 172,
     "metadata": {},
     "output_type": "execute_result"
    }
   ],
   "source": [
    "# 合并products_reviews和categories\n",
    "data = pd.merge(products_reviews, cat_encoded_df, on='productId', how='left')\n",
    "data.shape"
   ]
  },
  {
   "cell_type": "code",
   "execution_count": 174,
   "metadata": {},
   "outputs": [
    {
     "data": {
      "text/plain": [
       "(200656, 81)"
      ]
     },
     "execution_count": 174,
     "metadata": {},
     "output_type": "execute_result"
    }
   ],
   "source": [
    "# 合并data和brands\n",
    "data = pd.merge(data, b_encoded_df, on='productId', how='left')\n",
    "data.shape"
   ]
  },
  {
   "cell_type": "code",
   "execution_count": 175,
   "metadata": {},
   "outputs": [
    {
     "data": {
      "text/plain": [
       "(200656, 82)"
      ]
     },
     "execution_count": 175,
     "metadata": {},
     "output_type": "execute_result"
    }
   ],
   "source": [
    "# 合并data和reviews_text\n",
    "reviews_text = pd.read_csv('./data/reviews_text.csv',index_col=0)\n",
    "reviews_text.columns = ['index', 'review']\n",
    "data = pd.merge(data, reviews_text, on='index', how='left')\n",
    "data.shape"
   ]
  },
  {
   "cell_type": "code",
   "execution_count": 179,
   "metadata": {},
   "outputs": [],
   "source": [
    "data.fillna(0, inplace=True)    # 将空值填充为0"
   ]
  },
  {
   "cell_type": "code",
   "execution_count": 181,
   "metadata": {},
   "outputs": [
    {
     "data": {
      "text/html": [
       "<div>\n",
       "<style scoped>\n",
       "    .dataframe tbody tr th:only-of-type {\n",
       "        vertical-align: middle;\n",
       "    }\n",
       "\n",
       "    .dataframe tbody tr th {\n",
       "        vertical-align: top;\n",
       "    }\n",
       "\n",
       "    .dataframe thead th {\n",
       "        text-align: right;\n",
       "    }\n",
       "</style>\n",
       "<table border=\"1\" class=\"dataframe\">\n",
       "  <thead>\n",
       "    <tr style=\"text-align: right;\">\n",
       "      <th></th>\n",
       "      <th>productId</th>\n",
       "      <th>title</th>\n",
       "      <th>userId</th>\n",
       "      <th>profileName</th>\n",
       "      <th>helpfulness</th>\n",
       "      <th>score</th>\n",
       "      <th>time</th>\n",
       "      <th>summary</th>\n",
       "      <th>index</th>\n",
       "      <th>categories_All Electronics</th>\n",
       "      <th>...</th>\n",
       "      <th>brand_Dakota</th>\n",
       "      <th>brand_Diesel</th>\n",
       "      <th>brand_Fossil</th>\n",
       "      <th>brand_Freestyle</th>\n",
       "      <th>brand_Great Eastern Entertainment</th>\n",
       "      <th>brand_Pro-Tec</th>\n",
       "      <th>brand_Serenity Crystals, Inc.</th>\n",
       "      <th>brand_Skagen</th>\n",
       "      <th>brand_Timbuk2</th>\n",
       "      <th>review</th>\n",
       "    </tr>\n",
       "  </thead>\n",
       "  <tbody>\n",
       "    <tr>\n",
       "      <th>0</th>\n",
       "      <td>B000JVER7W</td>\n",
       "      <td>Mobile Action MA730 Handset Manager - Bluetoot...</td>\n",
       "      <td>A1RXYH9ROBAKEZ</td>\n",
       "      <td>A. Igoe</td>\n",
       "      <td>0/0</td>\n",
       "      <td>1.0</td>\n",
       "      <td>2009/01/31</td>\n",
       "      <td>Don't buy!</td>\n",
       "      <td>0</td>\n",
       "      <td>0.0</td>\n",
       "      <td>...</td>\n",
       "      <td>0.0</td>\n",
       "      <td>0.0</td>\n",
       "      <td>0.0</td>\n",
       "      <td>0.0</td>\n",
       "      <td>0.0</td>\n",
       "      <td>0.0</td>\n",
       "      <td>0.0</td>\n",
       "      <td>0.0</td>\n",
       "      <td>0.0</td>\n",
       "      <td>First of all, the company took my money and se...</td>\n",
       "    </tr>\n",
       "    <tr>\n",
       "      <th>1</th>\n",
       "      <td>B000F1UQJY</td>\n",
       "      <td>Motorola HT820 Stereo Bluetooth Headset with m...</td>\n",
       "      <td>AYAXWDXO97UKG</td>\n",
       "      <td>J. Tomlinson</td>\n",
       "      <td>0/0</td>\n",
       "      <td>5.0</td>\n",
       "      <td>2012/08/17</td>\n",
       "      <td>Gold Standard</td>\n",
       "      <td>1</td>\n",
       "      <td>0.0</td>\n",
       "      <td>...</td>\n",
       "      <td>0.0</td>\n",
       "      <td>0.0</td>\n",
       "      <td>0.0</td>\n",
       "      <td>0.0</td>\n",
       "      <td>0.0</td>\n",
       "      <td>0.0</td>\n",
       "      <td>0.0</td>\n",
       "      <td>0.0</td>\n",
       "      <td>0.0</td>\n",
       "      <td>I've gone through many different bluetooth hea...</td>\n",
       "    </tr>\n",
       "  </tbody>\n",
       "</table>\n",
       "<p>2 rows × 82 columns</p>\n",
       "</div>"
      ],
      "text/plain": [
       "    productId                                              title  \\\n",
       "0  B000JVER7W  Mobile Action MA730 Handset Manager - Bluetoot...   \n",
       "1  B000F1UQJY  Motorola HT820 Stereo Bluetooth Headset with m...   \n",
       "\n",
       "           userId   profileName helpfulness  score        time        summary  \\\n",
       "0  A1RXYH9ROBAKEZ       A. Igoe         0/0    1.0  2009/01/31     Don't buy!   \n",
       "1   AYAXWDXO97UKG  J. Tomlinson         0/0    5.0  2012/08/17  Gold Standard   \n",
       "\n",
       "   index  categories_All Electronics  ...  brand_Dakota  brand_Diesel  \\\n",
       "0      0                         0.0  ...           0.0           0.0   \n",
       "1      1                         0.0  ...           0.0           0.0   \n",
       "\n",
       "   brand_Fossil  brand_Freestyle  brand_Great Eastern Entertainment  \\\n",
       "0           0.0              0.0                                0.0   \n",
       "1           0.0              0.0                                0.0   \n",
       "\n",
       "   brand_Pro-Tec  brand_Serenity Crystals, Inc.  brand_Skagen  brand_Timbuk2  \\\n",
       "0            0.0                            0.0           0.0            0.0   \n",
       "1            0.0                            0.0           0.0            0.0   \n",
       "\n",
       "                                              review  \n",
       "0  First of all, the company took my money and se...  \n",
       "1  I've gone through many different bluetooth hea...  \n",
       "\n",
       "[2 rows x 82 columns]"
      ]
     },
     "execution_count": 181,
     "metadata": {},
     "output_type": "execute_result"
    }
   ],
   "source": [
    "data.head(2)"
   ]
  },
  {
   "cell_type": "markdown",
   "metadata": {},
   "source": [
    "## Encode\n",
    "* 将 userId & productId 编码，使得机器可以学习到同一用户/商品的特点"
   ]
  },
  {
   "cell_type": "code",
   "execution_count": 185,
   "metadata": {},
   "outputs": [],
   "source": [
    "# encode productId\n",
    "labelencoder_product = LabelEncoder()\n",
    "data[\"productId_encode\"] = labelencoder_product.fit_transform(data[\"productId\"])"
   ]
  },
  {
   "cell_type": "code",
   "execution_count": 187,
   "metadata": {},
   "outputs": [],
   "source": [
    "# encode userId\n",
    "labelencoder_user = LabelEncoder()\n",
    "data[\"userId_encode\"] = labelencoder_user.fit_transform(data[\"userId\"])"
   ]
  },
  {
   "cell_type": "code",
   "execution_count": 188,
   "metadata": {},
   "outputs": [],
   "source": [
    "data.to_csv('./data/data.csv')"
   ]
  },
  {
   "cell_type": "markdown",
   "metadata": {},
   "source": [
    "## 生成特征：用户的购买记录\n",
    "* 对于user u与时间t，累加时间t之前的brand以及categories向量"
   ]
  },
  {
   "cell_type": "code",
   "execution_count": 189,
   "metadata": {},
   "outputs": [],
   "source": [
    "data=pd.read_csv('./data/data.csv',index_col=0)"
   ]
  },
  {
   "cell_type": "code",
   "execution_count": 202,
   "metadata": {},
   "outputs": [],
   "source": [
    "# 筛选data.columns中以 categories_ 开头的列\n",
    "categories_columns = [col for col in data.columns if 'categories_' in col]\n",
    "# 筛选data.columns中以 brand_ 开头的列\n",
    "brand_columns = [col for col in data.columns if 'brand_' in col]"
   ]
  },
  {
   "cell_type": "code",
   "execution_count": 197,
   "metadata": {},
   "outputs": [],
   "source": [
    "data_hist = data.sort_values(by=['time']) # 按时间排序"
   ]
  },
  {
   "cell_type": "code",
   "execution_count": 208,
   "metadata": {},
   "outputs": [
    {
     "data": {
      "text/html": [
       "<div>\n",
       "<style scoped>\n",
       "    .dataframe tbody tr th:only-of-type {\n",
       "        vertical-align: middle;\n",
       "    }\n",
       "\n",
       "    .dataframe tbody tr th {\n",
       "        vertical-align: top;\n",
       "    }\n",
       "\n",
       "    .dataframe thead th {\n",
       "        text-align: right;\n",
       "    }\n",
       "</style>\n",
       "<table border=\"1\" class=\"dataframe\">\n",
       "  <thead>\n",
       "    <tr style=\"text-align: right;\">\n",
       "      <th></th>\n",
       "      <th>productId</th>\n",
       "      <th>title</th>\n",
       "      <th>userId</th>\n",
       "      <th>profileName</th>\n",
       "      <th>helpfulness</th>\n",
       "      <th>score</th>\n",
       "      <th>time</th>\n",
       "      <th>summary</th>\n",
       "      <th>index</th>\n",
       "      <th>categories_All Electronics</th>\n",
       "      <th>...</th>\n",
       "      <th>brand_Fossil</th>\n",
       "      <th>brand_Freestyle</th>\n",
       "      <th>brand_Great Eastern Entertainment</th>\n",
       "      <th>brand_Pro-Tec</th>\n",
       "      <th>brand_Serenity Crystals, Inc.</th>\n",
       "      <th>brand_Skagen</th>\n",
       "      <th>brand_Timbuk2</th>\n",
       "      <th>review</th>\n",
       "      <th>productId_encode</th>\n",
       "      <th>userId_encode</th>\n",
       "    </tr>\n",
       "  </thead>\n",
       "  <tbody>\n",
       "    <tr>\n",
       "      <th>136971</th>\n",
       "      <td>B0002E2XD6</td>\n",
       "      <td>Fender 351 Premium Celluloid Guitar Picks, 12 ...</td>\n",
       "      <td>A2XJM0QWB9MTW2</td>\n",
       "      <td>Terry</td>\n",
       "      <td>0/0</td>\n",
       "      <td>5.0</td>\n",
       "      <td>2008/01/11</td>\n",
       "      <td>Guitar picks</td>\n",
       "      <td>137013</td>\n",
       "      <td>0.0</td>\n",
       "      <td>...</td>\n",
       "      <td>0.0</td>\n",
       "      <td>0.0</td>\n",
       "      <td>0.0</td>\n",
       "      <td>0.0</td>\n",
       "      <td>0.0</td>\n",
       "      <td>0.0</td>\n",
       "      <td>0.0</td>\n",
       "      <td>The picks are awesome. My son loved them. Pack...</td>\n",
       "      <td>5482</td>\n",
       "      <td>84608</td>\n",
       "    </tr>\n",
       "    <tr>\n",
       "      <th>153842</th>\n",
       "      <td>B000CDL9IC</td>\n",
       "      <td>Invicta Men's 9310 Pro Diver Collection Swiss ...</td>\n",
       "      <td>A2PGQ8UQMIWF21</td>\n",
       "      <td>David Adams \"David\"</td>\n",
       "      <td>2/3</td>\n",
       "      <td>5.0</td>\n",
       "      <td>2008/01/11</td>\n",
       "      <td>\"A watch for the ages\"</td>\n",
       "      <td>153884</td>\n",
       "      <td>0.0</td>\n",
       "      <td>...</td>\n",
       "      <td>0.0</td>\n",
       "      <td>0.0</td>\n",
       "      <td>0.0</td>\n",
       "      <td>0.0</td>\n",
       "      <td>0.0</td>\n",
       "      <td>0.0</td>\n",
       "      <td>0.0</td>\n",
       "      <td>I ordered this Invicta Watch for my brother as...</td>\n",
       "      <td>19642</td>\n",
       "      <td>74928</td>\n",
       "    </tr>\n",
       "  </tbody>\n",
       "</table>\n",
       "<p>2 rows × 84 columns</p>\n",
       "</div>"
      ],
      "text/plain": [
       "         productId                                              title  \\\n",
       "136971  B0002E2XD6  Fender 351 Premium Celluloid Guitar Picks, 12 ...   \n",
       "153842  B000CDL9IC  Invicta Men's 9310 Pro Diver Collection Swiss ...   \n",
       "\n",
       "                userId          profileName helpfulness  score        time  \\\n",
       "136971  A2XJM0QWB9MTW2                Terry         0/0    5.0  2008/01/11   \n",
       "153842  A2PGQ8UQMIWF21  David Adams \"David\"         2/3    5.0  2008/01/11   \n",
       "\n",
       "                       summary   index  categories_All Electronics  ...  \\\n",
       "136971            Guitar picks  137013                         0.0  ...   \n",
       "153842  \"A watch for the ages\"  153884                         0.0  ...   \n",
       "\n",
       "        brand_Fossil  brand_Freestyle  brand_Great Eastern Entertainment  \\\n",
       "136971           0.0              0.0                                0.0   \n",
       "153842           0.0              0.0                                0.0   \n",
       "\n",
       "        brand_Pro-Tec  brand_Serenity Crystals, Inc.  brand_Skagen  \\\n",
       "136971            0.0                            0.0           0.0   \n",
       "153842            0.0                            0.0           0.0   \n",
       "\n",
       "        brand_Timbuk2                                             review  \\\n",
       "136971            0.0  The picks are awesome. My son loved them. Pack...   \n",
       "153842            0.0  I ordered this Invicta Watch for my brother as...   \n",
       "\n",
       "        productId_encode  userId_encode  \n",
       "136971              5482          84608  \n",
       "153842             19642          74928  \n",
       "\n",
       "[2 rows x 84 columns]"
      ]
     },
     "execution_count": 208,
     "metadata": {},
     "output_type": "execute_result"
    }
   ],
   "source": [
    "data_hist.head(2)"
   ]
  },
  {
   "cell_type": "code",
   "execution_count": 210,
   "metadata": {},
   "outputs": [],
   "source": [
    "data_1 = data_hist.groupby('userId')[categories_columns+brand_columns].cumsum()\n",
    "#将data_1的columns名字前都加上his_\n",
    "data_1.columns = ['his_'+col for col in data_1.columns]"
   ]
  },
  {
   "cell_type": "code",
   "execution_count": 217,
   "metadata": {},
   "outputs": [],
   "source": [
    "data_hist = pd.concat([data_hist, data_1], axis=1)"
   ]
  },
  {
   "cell_type": "code",
   "execution_count": 218,
   "metadata": {},
   "outputs": [],
   "source": [
    "data_hist.to_parquet('./data/data_hist.parquet')"
   ]
  },
  {
   "cell_type": "markdown",
   "metadata": {},
   "source": [
    "## 划分训练集&测试集"
   ]
  },
  {
   "cell_type": "code",
   "execution_count": 2,
   "metadata": {},
   "outputs": [],
   "source": [
    "data_hist=pd.read_parquet('./data/data_hist.parquet')"
   ]
  },
  {
   "cell_type": "code",
   "execution_count": 3,
   "metadata": {},
   "outputs": [
    {
     "data": {
      "text/plain": [
       "Index(['productId', 'title', 'userId', 'profileName', 'helpfulness', 'score',\n",
       "       'time', 'summary', 'index', 'categories_All Electronics',\n",
       "       ...\n",
       "       'his_brand_Carolyn Forsman', 'his_brand_Dakota', 'his_brand_Diesel',\n",
       "       'his_brand_Fossil', 'his_brand_Freestyle',\n",
       "       'his_brand_Great Eastern Entertainment', 'his_brand_Pro-Tec',\n",
       "       'his_brand_Serenity Crystals, Inc.', 'his_brand_Skagen',\n",
       "       'his_brand_Timbuk2'],\n",
       "      dtype='object', length=156)"
      ]
     },
     "execution_count": 3,
     "metadata": {},
     "output_type": "execute_result"
    }
   ],
   "source": [
    "data_hist.columns"
   ]
  },
  {
   "cell_type": "code",
   "execution_count": 4,
   "metadata": {},
   "outputs": [],
   "source": [
    "def get_train_test(data):\n",
    "    '''\n",
    "    split train - test data\n",
    "    '''\n",
    "    temp = data.sample(frac = 0.1).index\n",
    "    test_temp = data.loc[temp]\n",
    "    train_temp = data.loc[~data.index.isin(temp)]\n",
    "    temp = test_temp[(test_temp['userId_encode'].isin(train_temp['userId_encode']))&(\n",
    "        test_temp['productId_encode'].isin(train_temp['productId_encode']))].index\n",
    "    test = test_temp.loc[temp]\n",
    "    train = data.loc[~data.index.isin(temp)]\n",
    "    return train,test"
   ]
  },
  {
   "cell_type": "code",
   "execution_count": 5,
   "metadata": {},
   "outputs": [],
   "source": [
    "data_test = pd.DataFrame()\n",
    "data_train = data_hist.copy()\n",
    "while len(data_test)<len(data_hist)*0.1:\n",
    "    data_train,test1 = get_train_test(data_train)\n",
    "    data_test = pd.concat([data_test,test1])"
   ]
  },
  {
   "cell_type": "code",
   "execution_count": 6,
   "metadata": {},
   "outputs": [
    {
     "name": "stdout",
     "output_type": "stream",
     "text": [
      "训练集数量: 180275\n",
      "测试集数量: 20381\n"
     ]
    }
   ],
   "source": [
    "print(\"训练集数量:\",len(data_train))\n",
    "print(\"测试集数量:\",len(data_test))"
   ]
  },
  {
   "cell_type": "markdown",
   "metadata": {},
   "source": [
    "## 生成特征：产品的相关特征\n",
    "* 计算`train_score_mean`与，以刻画产品特征\n",
    "* `train_score_mean`: 训练集上，product i 的得分均值，可以捕捉产品质量等\n",
    "* `helpfulness_helpful`: 训练集上，product i 的所有helpfulness中分子的总和，衡量product i对应评论的质量\n",
    "* `helpfulness_total`: 训练集上，product i 的所有helpfulness中分母的总和，衡量product i对应评论的“人气”"
   ]
  },
  {
   "cell_type": "code",
   "execution_count": 8,
   "metadata": {},
   "outputs": [],
   "source": [
    "# trian_mean_score\n",
    "train_mean_score=pd.DataFrame(data_train.groupby([\"productId_encode\"])[\"score\"].mean())\n",
    "train_mean_score.reset_index(inplace=True)\n",
    "train_mean_score.columns=[\"productId_encode\",\"train_mean_score\"]"
   ]
  },
  {
   "cell_type": "code",
   "execution_count": 9,
   "metadata": {},
   "outputs": [
    {
     "data": {
      "text/html": [
       "<div>\n",
       "<style scoped>\n",
       "    .dataframe tbody tr th:only-of-type {\n",
       "        vertical-align: middle;\n",
       "    }\n",
       "\n",
       "    .dataframe tbody tr th {\n",
       "        vertical-align: top;\n",
       "    }\n",
       "\n",
       "    .dataframe thead th {\n",
       "        text-align: right;\n",
       "    }\n",
       "</style>\n",
       "<table border=\"1\" class=\"dataframe\">\n",
       "  <thead>\n",
       "    <tr style=\"text-align: right;\">\n",
       "      <th></th>\n",
       "      <th>productId_encode</th>\n",
       "      <th>train_mean_score</th>\n",
       "    </tr>\n",
       "  </thead>\n",
       "  <tbody>\n",
       "    <tr>\n",
       "      <th>0</th>\n",
       "      <td>0</td>\n",
       "      <td>4.333333</td>\n",
       "    </tr>\n",
       "    <tr>\n",
       "      <th>1</th>\n",
       "      <td>1</td>\n",
       "      <td>5.000000</td>\n",
       "    </tr>\n",
       "    <tr>\n",
       "      <th>2</th>\n",
       "      <td>2</td>\n",
       "      <td>3.500000</td>\n",
       "    </tr>\n",
       "    <tr>\n",
       "      <th>3</th>\n",
       "      <td>3</td>\n",
       "      <td>4.000000</td>\n",
       "    </tr>\n",
       "    <tr>\n",
       "      <th>4</th>\n",
       "      <td>4</td>\n",
       "      <td>2.333333</td>\n",
       "    </tr>\n",
       "    <tr>\n",
       "      <th>...</th>\n",
       "      <td>...</td>\n",
       "      <td>...</td>\n",
       "    </tr>\n",
       "    <tr>\n",
       "      <th>37507</th>\n",
       "      <td>37507</td>\n",
       "      <td>5.000000</td>\n",
       "    </tr>\n",
       "    <tr>\n",
       "      <th>37508</th>\n",
       "      <td>37508</td>\n",
       "      <td>4.572368</td>\n",
       "    </tr>\n",
       "    <tr>\n",
       "      <th>37509</th>\n",
       "      <td>37509</td>\n",
       "      <td>4.000000</td>\n",
       "    </tr>\n",
       "    <tr>\n",
       "      <th>37510</th>\n",
       "      <td>37510</td>\n",
       "      <td>5.000000</td>\n",
       "    </tr>\n",
       "    <tr>\n",
       "      <th>37511</th>\n",
       "      <td>37511</td>\n",
       "      <td>5.000000</td>\n",
       "    </tr>\n",
       "  </tbody>\n",
       "</table>\n",
       "<p>37512 rows × 2 columns</p>\n",
       "</div>"
      ],
      "text/plain": [
       "       productId_encode  train_mean_score\n",
       "0                     0          4.333333\n",
       "1                     1          5.000000\n",
       "2                     2          3.500000\n",
       "3                     3          4.000000\n",
       "4                     4          2.333333\n",
       "...                 ...               ...\n",
       "37507             37507          5.000000\n",
       "37508             37508          4.572368\n",
       "37509             37509          4.000000\n",
       "37510             37510          5.000000\n",
       "37511             37511          5.000000\n",
       "\n",
       "[37512 rows x 2 columns]"
      ]
     },
     "execution_count": 9,
     "metadata": {},
     "output_type": "execute_result"
    }
   ],
   "source": [
    "train_mean_score"
   ]
  },
  {
   "cell_type": "code",
   "execution_count": 10,
   "metadata": {},
   "outputs": [
    {
     "name": "stderr",
     "output_type": "stream",
     "text": [
      "C:\\Users\\Kitty Bu\\AppData\\Local\\Temp\\ipykernel_13368\\2624857791.py:3: SettingWithCopyWarning: \n",
      "A value is trying to be set on a copy of a slice from a DataFrame.\n",
      "Try using .loc[row_indexer,col_indexer] = value instead\n",
      "\n",
      "See the caveats in the documentation: https://pandas.pydata.org/pandas-docs/stable/user_guide/indexing.html#returning-a-view-versus-a-copy\n",
      "  data_train_1[\"helpfulness_helpful\"]=data_train_1[\"helpfulness\"].apply(lambda x: int(x.split(\"/\")[0]))\n",
      "C:\\Users\\Kitty Bu\\AppData\\Local\\Temp\\ipykernel_13368\\2624857791.py:4: SettingWithCopyWarning: \n",
      "A value is trying to be set on a copy of a slice from a DataFrame.\n",
      "Try using .loc[row_indexer,col_indexer] = value instead\n",
      "\n",
      "See the caveats in the documentation: https://pandas.pydata.org/pandas-docs/stable/user_guide/indexing.html#returning-a-view-versus-a-copy\n",
      "  data_train_1[\"helpfulness_total\"]=data_train_1[\"helpfulness\"].apply(lambda x: int(x.split(\"/\")[1]))\n"
     ]
    }
   ],
   "source": [
    "# helpfulness\n",
    "data_train_1=data_train[[\"productId_encode\",\"helpfulness\"]]\n",
    "data_train_1[\"helpfulness_helpful\"]=data_train_1[\"helpfulness\"].apply(lambda x: int(x.split(\"/\")[0]))\n",
    "data_train_1[\"helpfulness_total\"]=data_train_1[\"helpfulness\"].apply(lambda x: int(x.split(\"/\")[1]))"
   ]
  },
  {
   "cell_type": "code",
   "execution_count": 11,
   "metadata": {},
   "outputs": [],
   "source": [
    "helpfulness_helpful = pd.DataFrame(data_train_1.groupby(\"productId_encode\")[\"helpfulness_helpful\"].sum())\n",
    "helpfulness_helpful.reset_index(inplace=True)\n",
    "helpfulness_helpful.columns=[\"productId_encode\",\"helpfulness_helpful\"]\n",
    "helpfulness_total = pd.DataFrame(data_train_1.groupby(\"productId_encode\")[\"helpfulness_total\"].sum())\n",
    "helpfulness_total.reset_index(inplace=True)\n",
    "helpfulness_total.columns=[\"productId_encode\",\"helpfulness_total\"]"
   ]
  },
  {
   "cell_type": "code",
   "execution_count": 12,
   "metadata": {},
   "outputs": [],
   "source": [
    "# 分别与train&test合并\n",
    "data_train = pd.merge(data_train,train_mean_score,on=\"productId_encode\",how=\"left\")\n",
    "data_train = pd.merge(data_train,helpfulness_helpful,on=\"productId_encode\",how=\"left\")\n",
    "data_train = pd.merge(data_train,helpfulness_total,on=\"productId_encode\",how=\"left\")\n",
    "\n",
    "data_test = pd.merge(data_test,train_mean_score,on=\"productId_encode\",how=\"left\")\n",
    "data_test = pd.merge(data_test,helpfulness_helpful,on=\"productId_encode\",how=\"left\")\n",
    "data_test = pd.merge(data_test,helpfulness_total,on=\"productId_encode\",how=\"left\")"
   ]
  },
  {
   "cell_type": "markdown",
   "metadata": {},
   "source": [
    "## 生成特征：summary&review连接\n",
    "* 对于product i，将训练集中的所有summary (review) 连接在一起\n",
    "* 每个product对应一个`long_summary`和一个`long_review`，作为产品特征"
   ]
  },
  {
   "cell_type": "code",
   "execution_count": 13,
   "metadata": {},
   "outputs": [],
   "source": [
    "long_summary = pd.DataFrame(data_train.groupby(\"productId_encode\")[\"summary\"].sum())\n",
    "long_summary.reset_index(inplace=True)\n",
    "long_summary.columns=[\"productId_encode\",\"long_summary\"]"
   ]
  },
  {
   "cell_type": "code",
   "execution_count": 14,
   "metadata": {},
   "outputs": [],
   "source": [
    "long_review = pd.DataFrame(data_train.groupby(\"productId_encode\")[\"review\"].sum())\n",
    "long_review.reset_index(inplace=True)\n",
    "long_review.columns=[\"productId_encode\",\"long_review\"]"
   ]
  },
  {
   "cell_type": "code",
   "execution_count": 15,
   "metadata": {},
   "outputs": [],
   "source": [
    "long_review.to_parquet('long_review.parquet')\n",
    "long_summary.to_parquet('long_summary.parquet')"
   ]
  },
  {
   "cell_type": "code",
   "execution_count": 16,
   "metadata": {},
   "outputs": [],
   "source": [
    "data_train.drop(columns=[\"productId\",\"userId\",\"profileName\",\"helpfulness\",\"time\",\"summary\",\"review\"], inplace=True)\n",
    "data_test.drop(columns=[\"productId\",\"userId\",\"profileName\",\"helpfulness\",\"time\",\"summary\",\"review\"], inplace=True)"
   ]
  },
  {
   "cell_type": "code",
   "execution_count": 17,
   "metadata": {},
   "outputs": [
    {
     "data": {
      "text/html": [
       "<div>\n",
       "<style scoped>\n",
       "    .dataframe tbody tr th:only-of-type {\n",
       "        vertical-align: middle;\n",
       "    }\n",
       "\n",
       "    .dataframe tbody tr th {\n",
       "        vertical-align: top;\n",
       "    }\n",
       "\n",
       "    .dataframe thead th {\n",
       "        text-align: right;\n",
       "    }\n",
       "</style>\n",
       "<table border=\"1\" class=\"dataframe\">\n",
       "  <thead>\n",
       "    <tr style=\"text-align: right;\">\n",
       "      <th></th>\n",
       "      <th>title</th>\n",
       "      <th>score</th>\n",
       "      <th>index</th>\n",
       "      <th>categories_All Electronics</th>\n",
       "      <th>categories_Alternative Rock</th>\n",
       "      <th>categories_Amazon Instant Video</th>\n",
       "      <th>categories_Amazon MP3 Store</th>\n",
       "      <th>categories_Appliances</th>\n",
       "      <th>categories_Arts</th>\n",
       "      <th>categories_Automotive</th>\n",
       "      <th>...</th>\n",
       "      <th>his_brand_Fossil</th>\n",
       "      <th>his_brand_Freestyle</th>\n",
       "      <th>his_brand_Great Eastern Entertainment</th>\n",
       "      <th>his_brand_Pro-Tec</th>\n",
       "      <th>his_brand_Serenity Crystals, Inc.</th>\n",
       "      <th>his_brand_Skagen</th>\n",
       "      <th>his_brand_Timbuk2</th>\n",
       "      <th>train_mean_score</th>\n",
       "      <th>helpfulness_helpful</th>\n",
       "      <th>helpfulness_total</th>\n",
       "    </tr>\n",
       "  </thead>\n",
       "  <tbody>\n",
       "    <tr>\n",
       "      <th>0</th>\n",
       "      <td>Casio Men's Techmowear Remote Control Digital ...</td>\n",
       "      <td>4.0</td>\n",
       "      <td>153012</td>\n",
       "      <td>0.0</td>\n",
       "      <td>0.0</td>\n",
       "      <td>0.0</td>\n",
       "      <td>0.0</td>\n",
       "      <td>0.0</td>\n",
       "      <td>0.0</td>\n",
       "      <td>0.0</td>\n",
       "      <td>...</td>\n",
       "      <td>0.0</td>\n",
       "      <td>0.0</td>\n",
       "      <td>0.0</td>\n",
       "      <td>0.0</td>\n",
       "      <td>0.0</td>\n",
       "      <td>0.0</td>\n",
       "      <td>0.0</td>\n",
       "      <td>4.125000</td>\n",
       "      <td>12</td>\n",
       "      <td>19</td>\n",
       "    </tr>\n",
       "    <tr>\n",
       "      <th>1</th>\n",
       "      <td>Auralex GRAMMA: Amp and Monitor Isolation Rise...</td>\n",
       "      <td>4.0</td>\n",
       "      <td>100729</td>\n",
       "      <td>0.0</td>\n",
       "      <td>0.0</td>\n",
       "      <td>0.0</td>\n",
       "      <td>0.0</td>\n",
       "      <td>0.0</td>\n",
       "      <td>0.0</td>\n",
       "      <td>0.0</td>\n",
       "      <td>...</td>\n",
       "      <td>0.0</td>\n",
       "      <td>0.0</td>\n",
       "      <td>0.0</td>\n",
       "      <td>0.0</td>\n",
       "      <td>0.0</td>\n",
       "      <td>0.0</td>\n",
       "      <td>0.0</td>\n",
       "      <td>4.428571</td>\n",
       "      <td>80</td>\n",
       "      <td>84</td>\n",
       "    </tr>\n",
       "  </tbody>\n",
       "</table>\n",
       "<p>2 rows × 152 columns</p>\n",
       "</div>"
      ],
      "text/plain": [
       "                                               title  score   index  \\\n",
       "0  Casio Men's Techmowear Remote Control Digital ...    4.0  153012   \n",
       "1  Auralex GRAMMA: Amp and Monitor Isolation Rise...    4.0  100729   \n",
       "\n",
       "   categories_All Electronics  categories_Alternative Rock  \\\n",
       "0                         0.0                          0.0   \n",
       "1                         0.0                          0.0   \n",
       "\n",
       "   categories_Amazon Instant Video  categories_Amazon MP3 Store  \\\n",
       "0                              0.0                          0.0   \n",
       "1                              0.0                          0.0   \n",
       "\n",
       "   categories_Appliances  categories_Arts  categories_Automotive  ...  \\\n",
       "0                    0.0              0.0                    0.0  ...   \n",
       "1                    0.0              0.0                    0.0  ...   \n",
       "\n",
       "   his_brand_Fossil  his_brand_Freestyle  \\\n",
       "0               0.0                  0.0   \n",
       "1               0.0                  0.0   \n",
       "\n",
       "   his_brand_Great Eastern Entertainment  his_brand_Pro-Tec  \\\n",
       "0                                    0.0                0.0   \n",
       "1                                    0.0                0.0   \n",
       "\n",
       "   his_brand_Serenity Crystals, Inc.  his_brand_Skagen  his_brand_Timbuk2  \\\n",
       "0                                0.0               0.0                0.0   \n",
       "1                                0.0               0.0                0.0   \n",
       "\n",
       "   train_mean_score  helpfulness_helpful  helpfulness_total  \n",
       "0          4.125000                   12                 19  \n",
       "1          4.428571                   80                 84  \n",
       "\n",
       "[2 rows x 152 columns]"
      ]
     },
     "execution_count": 17,
     "metadata": {},
     "output_type": "execute_result"
    }
   ],
   "source": [
    "data_test.head(2)"
   ]
  },
  {
   "cell_type": "code",
   "execution_count": 18,
   "metadata": {},
   "outputs": [],
   "source": [
    "data_train.to_parquet(\"data_train.parquet\")\n",
    "data_test.to_parquet(\"data_test.parquet\")"
   ]
  },
  {
   "cell_type": "markdown",
   "metadata": {},
   "source": [
    "## BERT-Based Embedding\n",
    "* google-bert/bert-base-uncased [介绍文档](https://huggingface.co/google-bert/bert-base-uncased)\n",
    "* sentence-transformer [介绍文档](https://huggingface.co/sentence-transformers)\n",
    "* 使用BERT对`title`, `long_summary`进行embedding."
   ]
  },
  {
   "cell_type": "markdown",
   "metadata": {},
   "source": [
    "### Embedding title"
   ]
  },
  {
   "cell_type": "code",
   "execution_count": 7,
   "metadata": {},
   "outputs": [],
   "source": [
    "# 使用sentence_transformers比transformer计算更快\n",
    "embedding_title = models.Transformer('D:/BERT/bert-base-uncased/', max_seq_length = 256) \n",
    "pooling_model = models.Pooling(embedding_title.get_word_embedding_dimension()) # 平均池化层\n",
    "model = SentenceTransformer(modules=[embedding_title, pooling_model]) # 总模型，sentence transformer"
   ]
  },
  {
   "cell_type": "code",
   "execution_count": 48,
   "metadata": {},
   "outputs": [],
   "source": [
    "data_train=pd.read_parquet(\"data_train.parquet\")\n",
    "data_test=pd.read_parquet(\"data_test.parquet\")"
   ]
  },
  {
   "cell_type": "code",
   "execution_count": 50,
   "metadata": {},
   "outputs": [],
   "source": [
    "# 获取所有title\n",
    "title_train = data_train[[\"productId_encode\",\"title\"]].drop_duplicates()\n",
    "title_test = data_test[[\"productId_encode\",\"title\"]].drop_duplicates()\n",
    "title = pd.concat([title_train,title_test])\n",
    "title = title.drop_duplicates()\n",
    "title.reset_index(drop=True,inplace=True)"
   ]
  },
  {
   "cell_type": "code",
   "execution_count": 76,
   "metadata": {},
   "outputs": [
    {
     "data": {
      "text/html": [
       "<div>\n",
       "<style scoped>\n",
       "    .dataframe tbody tr th:only-of-type {\n",
       "        vertical-align: middle;\n",
       "    }\n",
       "\n",
       "    .dataframe tbody tr th {\n",
       "        vertical-align: top;\n",
       "    }\n",
       "\n",
       "    .dataframe thead th {\n",
       "        text-align: right;\n",
       "    }\n",
       "</style>\n",
       "<table border=\"1\" class=\"dataframe\">\n",
       "  <thead>\n",
       "    <tr style=\"text-align: right;\">\n",
       "      <th></th>\n",
       "      <th>productId_encode</th>\n",
       "      <th>title</th>\n",
       "    </tr>\n",
       "  </thead>\n",
       "  <tbody>\n",
       "    <tr>\n",
       "      <th>0</th>\n",
       "      <td>5482</td>\n",
       "      <td>Fender 351 Premium Celluloid Guitar Picks, 12 ...</td>\n",
       "    </tr>\n",
       "    <tr>\n",
       "      <th>1</th>\n",
       "      <td>19642</td>\n",
       "      <td>Invicta Men's 9310 Pro Diver Collection Swiss ...</td>\n",
       "    </tr>\n",
       "    <tr>\n",
       "      <th>2</th>\n",
       "      <td>33730</td>\n",
       "      <td>Avalon Pocket Watch-A-8619</td>\n",
       "    </tr>\n",
       "    <tr>\n",
       "      <th>3</th>\n",
       "      <td>26504</td>\n",
       "      <td>Men's Wenger 72228 AquaGraph 1000m Diver's Wat...</td>\n",
       "    </tr>\n",
       "    <tr>\n",
       "      <th>4</th>\n",
       "      <td>23521</td>\n",
       "      <td>Bulova Men's 97F50 Diamond Accent Watch</td>\n",
       "    </tr>\n",
       "    <tr>\n",
       "      <th>...</th>\n",
       "      <td>...</td>\n",
       "      <td>...</td>\n",
       "    </tr>\n",
       "    <tr>\n",
       "      <th>37507</th>\n",
       "      <td>6034</td>\n",
       "      <td>Jensen MOD12-50 12\" 50 Watt Guitar Speaker, 16...</td>\n",
       "    </tr>\n",
       "    <tr>\n",
       "      <th>37508</th>\n",
       "      <td>20432</td>\n",
       "      <td>Thomastik Vision Titanium Orchestra 4/4 Violin...</td>\n",
       "    </tr>\n",
       "    <tr>\n",
       "      <th>37509</th>\n",
       "      <td>27621</td>\n",
       "      <td>Round Peach Coral Bead Party Loop earrings Ste...</td>\n",
       "    </tr>\n",
       "    <tr>\n",
       "      <th>37510</th>\n",
       "      <td>20365</td>\n",
       "      <td>Sterling Silver Gold Mother of Pearl Hoop Earr...</td>\n",
       "    </tr>\n",
       "    <tr>\n",
       "      <th>37511</th>\n",
       "      <td>19013</td>\n",
       "      <td>Humes &amp; Berg Enduro DR421BK 5 x 14 Inches Snar...</td>\n",
       "    </tr>\n",
       "  </tbody>\n",
       "</table>\n",
       "<p>37512 rows × 2 columns</p>\n",
       "</div>"
      ],
      "text/plain": [
       "       productId_encode                                              title\n",
       "0                  5482  Fender 351 Premium Celluloid Guitar Picks, 12 ...\n",
       "1                 19642  Invicta Men's 9310 Pro Diver Collection Swiss ...\n",
       "2                 33730                         Avalon Pocket Watch-A-8619\n",
       "3                 26504  Men's Wenger 72228 AquaGraph 1000m Diver's Wat...\n",
       "4                 23521            Bulova Men's 97F50 Diamond Accent Watch\n",
       "...                 ...                                                ...\n",
       "37507              6034  Jensen MOD12-50 12\" 50 Watt Guitar Speaker, 16...\n",
       "37508             20432  Thomastik Vision Titanium Orchestra 4/4 Violin...\n",
       "37509             27621  Round Peach Coral Bead Party Loop earrings Ste...\n",
       "37510             20365  Sterling Silver Gold Mother of Pearl Hoop Earr...\n",
       "37511             19013  Humes & Berg Enduro DR421BK 5 x 14 Inches Snar...\n",
       "\n",
       "[37512 rows x 2 columns]"
      ]
     },
     "execution_count": 76,
     "metadata": {},
     "output_type": "execute_result"
    }
   ],
   "source": [
    "title"
   ]
  },
  {
   "cell_type": "code",
   "execution_count": 73,
   "metadata": {},
   "outputs": [],
   "source": [
    "title_embeded = model.encode(title[\"title\"]) "
   ]
  },
  {
   "cell_type": "code",
   "execution_count": 80,
   "metadata": {},
   "outputs": [],
   "source": [
    "title_embeded_df = pd.concat([title,pd.DataFrame(title_embeded)],axis=1)"
   ]
  },
  {
   "cell_type": "code",
   "execution_count": 83,
   "metadata": {},
   "outputs": [],
   "source": [
    "title_embeded_df.drop(columns=[\"title\"],inplace=True)"
   ]
  },
  {
   "cell_type": "code",
   "execution_count": 85,
   "metadata": {},
   "outputs": [],
   "source": [
    "title_embeded_df.columns = title_embeded_df.columns.astype(str)"
   ]
  },
  {
   "cell_type": "code",
   "execution_count": 86,
   "metadata": {},
   "outputs": [],
   "source": [
    "title_embeded_df.to_parquet(\"title_embeded_df.parquet\")"
   ]
  },
  {
   "cell_type": "markdown",
   "metadata": {},
   "source": [
    "### Embedding long summary"
   ]
  },
  {
   "cell_type": "code",
   "execution_count": 3,
   "metadata": {},
   "outputs": [],
   "source": [
    "long_summary = pd.read_parquet('long_summary.parquet')"
   ]
  },
  {
   "cell_type": "code",
   "execution_count": 6,
   "metadata": {},
   "outputs": [
    {
     "data": {
      "text/html": [
       "<div>\n",
       "<style scoped>\n",
       "    .dataframe tbody tr th:only-of-type {\n",
       "        vertical-align: middle;\n",
       "    }\n",
       "\n",
       "    .dataframe tbody tr th {\n",
       "        vertical-align: top;\n",
       "    }\n",
       "\n",
       "    .dataframe thead th {\n",
       "        text-align: right;\n",
       "    }\n",
       "</style>\n",
       "<table border=\"1\" class=\"dataframe\">\n",
       "  <thead>\n",
       "    <tr style=\"text-align: right;\">\n",
       "      <th></th>\n",
       "      <th>productId_encode</th>\n",
       "      <th>long_summary</th>\n",
       "    </tr>\n",
       "  </thead>\n",
       "  <tbody>\n",
       "    <tr>\n",
       "      <th>0</th>\n",
       "      <td>0</td>\n",
       "      <td>Exciting, amusing and very useful.Simon's revi...</td>\n",
       "    </tr>\n",
       "    <tr>\n",
       "      <th>1</th>\n",
       "      <td>1</td>\n",
       "      <td>Great little Disney book collection</td>\n",
       "    </tr>\n",
       "  </tbody>\n",
       "</table>\n",
       "</div>"
      ],
      "text/plain": [
       "   productId_encode                                       long_summary\n",
       "0                 0  Exciting, amusing and very useful.Simon's revi...\n",
       "1                 1                Great little Disney book collection"
      ]
     },
     "execution_count": 6,
     "metadata": {},
     "output_type": "execute_result"
    }
   ],
   "source": [
    "long_summary.head(2)"
   ]
  },
  {
   "cell_type": "code",
   "execution_count": 8,
   "metadata": {},
   "outputs": [],
   "source": [
    "summary_embeded = model.encode(long_summary[\"long_summary\"]) "
   ]
  },
  {
   "cell_type": "code",
   "execution_count": 9,
   "metadata": {},
   "outputs": [],
   "source": [
    "summary_embeded_df = pd.concat([long_summary,pd.DataFrame(summary_embeded)],axis=1)"
   ]
  },
  {
   "cell_type": "code",
   "execution_count": 11,
   "metadata": {},
   "outputs": [],
   "source": [
    "summary_embeded_df.drop(columns=[\"long_summary\"],inplace=True)"
   ]
  },
  {
   "cell_type": "code",
   "execution_count": 12,
   "metadata": {},
   "outputs": [],
   "source": [
    "summary_embeded_df.columns = summary_embeded_df.columns.astype(str)"
   ]
  },
  {
   "cell_type": "code",
   "execution_count": 13,
   "metadata": {},
   "outputs": [],
   "source": [
    "summary_embeded_df.to_parquet(\"summary_embeded_df.parquet\")"
   ]
  },
  {
   "cell_type": "code",
   "execution_count": 14,
   "metadata": {},
   "outputs": [
    {
     "data": {
      "text/html": [
       "<div>\n",
       "<style scoped>\n",
       "    .dataframe tbody tr th:only-of-type {\n",
       "        vertical-align: middle;\n",
       "    }\n",
       "\n",
       "    .dataframe tbody tr th {\n",
       "        vertical-align: top;\n",
       "    }\n",
       "\n",
       "    .dataframe thead th {\n",
       "        text-align: right;\n",
       "    }\n",
       "</style>\n",
       "<table border=\"1\" class=\"dataframe\">\n",
       "  <thead>\n",
       "    <tr style=\"text-align: right;\">\n",
       "      <th></th>\n",
       "      <th>productId_encode</th>\n",
       "      <th>0</th>\n",
       "      <th>1</th>\n",
       "      <th>2</th>\n",
       "      <th>3</th>\n",
       "      <th>4</th>\n",
       "      <th>5</th>\n",
       "      <th>6</th>\n",
       "      <th>7</th>\n",
       "      <th>8</th>\n",
       "      <th>...</th>\n",
       "      <th>758</th>\n",
       "      <th>759</th>\n",
       "      <th>760</th>\n",
       "      <th>761</th>\n",
       "      <th>762</th>\n",
       "      <th>763</th>\n",
       "      <th>764</th>\n",
       "      <th>765</th>\n",
       "      <th>766</th>\n",
       "      <th>767</th>\n",
       "    </tr>\n",
       "  </thead>\n",
       "  <tbody>\n",
       "    <tr>\n",
       "      <th>0</th>\n",
       "      <td>0</td>\n",
       "      <td>-0.085025</td>\n",
       "      <td>0.294307</td>\n",
       "      <td>0.465648</td>\n",
       "      <td>0.322427</td>\n",
       "      <td>0.179262</td>\n",
       "      <td>-0.389201</td>\n",
       "      <td>0.175364</td>\n",
       "      <td>0.245543</td>\n",
       "      <td>-0.022283</td>\n",
       "      <td>...</td>\n",
       "      <td>0.002274</td>\n",
       "      <td>-0.246523</td>\n",
       "      <td>-0.195381</td>\n",
       "      <td>-0.127206</td>\n",
       "      <td>-0.081572</td>\n",
       "      <td>-0.025216</td>\n",
       "      <td>-0.202967</td>\n",
       "      <td>-0.339285</td>\n",
       "      <td>0.297366</td>\n",
       "      <td>0.023349</td>\n",
       "    </tr>\n",
       "    <tr>\n",
       "      <th>1</th>\n",
       "      <td>1</td>\n",
       "      <td>0.007090</td>\n",
       "      <td>-0.260507</td>\n",
       "      <td>0.189745</td>\n",
       "      <td>-0.019337</td>\n",
       "      <td>0.613955</td>\n",
       "      <td>-0.676134</td>\n",
       "      <td>0.238273</td>\n",
       "      <td>0.041424</td>\n",
       "      <td>-0.381183</td>\n",
       "      <td>...</td>\n",
       "      <td>0.201009</td>\n",
       "      <td>0.376041</td>\n",
       "      <td>-0.187821</td>\n",
       "      <td>-0.171530</td>\n",
       "      <td>0.164410</td>\n",
       "      <td>-0.283178</td>\n",
       "      <td>0.036229</td>\n",
       "      <td>-0.012678</td>\n",
       "      <td>0.269507</td>\n",
       "      <td>0.051707</td>\n",
       "    </tr>\n",
       "  </tbody>\n",
       "</table>\n",
       "<p>2 rows × 769 columns</p>\n",
       "</div>"
      ],
      "text/plain": [
       "   productId_encode         0         1         2         3         4  \\\n",
       "0                 0 -0.085025  0.294307  0.465648  0.322427  0.179262   \n",
       "1                 1  0.007090 -0.260507  0.189745 -0.019337  0.613955   \n",
       "\n",
       "          5         6         7         8  ...       758       759       760  \\\n",
       "0 -0.389201  0.175364  0.245543 -0.022283  ...  0.002274 -0.246523 -0.195381   \n",
       "1 -0.676134  0.238273  0.041424 -0.381183  ...  0.201009  0.376041 -0.187821   \n",
       "\n",
       "        761       762       763       764       765       766       767  \n",
       "0 -0.127206 -0.081572 -0.025216 -0.202967 -0.339285  0.297366  0.023349  \n",
       "1 -0.171530  0.164410 -0.283178  0.036229 -0.012678  0.269507  0.051707  \n",
       "\n",
       "[2 rows x 769 columns]"
      ]
     },
     "execution_count": 14,
     "metadata": {},
     "output_type": "execute_result"
    }
   ],
   "source": [
    "summary_embeded_df.head(2)"
   ]
  },
  {
   "cell_type": "markdown",
   "metadata": {},
   "source": [
    "* long summary和long review分别单独储存在parquet中\n",
    "* 如果需要和train,test拼接，可以merge on \"productId_encode\"      \n",
    "data_train = pd.merge(data_train,long_summary,on=\"productId_encode\",how=\"left\")           \n",
    "data_train = pd.merge(data_train,long_review,on=\"productId_encode\",how=\"left\")     \n",
    "data_test = pd.merge(data_test,long_summary,on=\"productId_encode\",how=\"left\")        \n",
    "data_test = pd.merge(data_test,long_review,on=\"productId_encode\",how=\"left\")      "
   ]
  },
  {
   "cell_type": "markdown",
   "metadata": {},
   "source": [
    "# 预处理后数据一览"
   ]
  },
  {
   "cell_type": "code",
   "execution_count": 2,
   "metadata": {},
   "outputs": [],
   "source": [
    "data_train = pd.read_parquet(\"data_train.parquet\")\n",
    "data_test = pd.read_parquet(\"data_test.parquet\")"
   ]
  },
  {
   "cell_type": "code",
   "execution_count": 3,
   "metadata": {},
   "outputs": [
    {
     "data": {
      "text/plain": [
       "Index(['title', 'score', 'index', 'categories_All Electronics',\n",
       "       'categories_Alternative Rock', 'categories_Amazon Instant Video',\n",
       "       'categories_Amazon MP3 Store', 'categories_Appliances',\n",
       "       'categories_Arts', 'categories_Automotive',\n",
       "       ...\n",
       "       'his_brand_Fossil', 'his_brand_Freestyle',\n",
       "       'his_brand_Great Eastern Entertainment', 'his_brand_Pro-Tec',\n",
       "       'his_brand_Serenity Crystals, Inc.', 'his_brand_Skagen',\n",
       "       'his_brand_Timbuk2', 'train_mean_score', 'helpfulness_helpful',\n",
       "       'helpfulness_total'],\n",
       "      dtype='object', length=152)"
      ]
     },
     "execution_count": 3,
     "metadata": {},
     "output_type": "execute_result"
    }
   ],
   "source": [
    "data_train.columns"
   ]
  },
  {
   "cell_type": "code",
   "execution_count": 4,
   "metadata": {},
   "outputs": [
    {
     "data": {
      "text/plain": [
       "124"
      ]
     },
     "execution_count": 4,
     "metadata": {},
     "output_type": "execute_result"
    }
   ],
   "source": [
    "len([i for i in data_train.columns if \"cate\" in i])"
   ]
  },
  {
   "cell_type": "code",
   "execution_count": 10,
   "metadata": {},
   "outputs": [],
   "source": [
    "data = pd.concat([data_train,data_test])"
   ]
  },
  {
   "cell_type": "code",
   "execution_count": 11,
   "metadata": {},
   "outputs": [
    {
     "data": {
      "text/html": [
       "<div>\n",
       "<style scoped>\n",
       "    .dataframe tbody tr th:only-of-type {\n",
       "        vertical-align: middle;\n",
       "    }\n",
       "\n",
       "    .dataframe tbody tr th {\n",
       "        vertical-align: top;\n",
       "    }\n",
       "\n",
       "    .dataframe thead th {\n",
       "        text-align: right;\n",
       "    }\n",
       "</style>\n",
       "<table border=\"1\" class=\"dataframe\">\n",
       "  <thead>\n",
       "    <tr style=\"text-align: right;\">\n",
       "      <th></th>\n",
       "      <th>title</th>\n",
       "      <th>score</th>\n",
       "      <th>index</th>\n",
       "      <th>categories_All Electronics</th>\n",
       "      <th>categories_Alternative Rock</th>\n",
       "      <th>categories_Amazon Instant Video</th>\n",
       "      <th>categories_Amazon MP3 Store</th>\n",
       "      <th>categories_Appliances</th>\n",
       "      <th>categories_Arts</th>\n",
       "      <th>categories_Automotive</th>\n",
       "      <th>...</th>\n",
       "      <th>his_brand_Fossil</th>\n",
       "      <th>his_brand_Freestyle</th>\n",
       "      <th>his_brand_Great Eastern Entertainment</th>\n",
       "      <th>his_brand_Pro-Tec</th>\n",
       "      <th>his_brand_Serenity Crystals, Inc.</th>\n",
       "      <th>his_brand_Skagen</th>\n",
       "      <th>his_brand_Timbuk2</th>\n",
       "      <th>train_mean_score</th>\n",
       "      <th>helpfulness_helpful</th>\n",
       "      <th>helpfulness_total</th>\n",
       "    </tr>\n",
       "  </thead>\n",
       "  <tbody>\n",
       "    <tr>\n",
       "      <th>0</th>\n",
       "      <td>Fender 351 Premium Celluloid Guitar Picks, 12 ...</td>\n",
       "      <td>5.0</td>\n",
       "      <td>137013</td>\n",
       "      <td>0.0</td>\n",
       "      <td>0.0</td>\n",
       "      <td>0.0</td>\n",
       "      <td>0.0</td>\n",
       "      <td>0.0</td>\n",
       "      <td>0.0</td>\n",
       "      <td>0.0</td>\n",
       "      <td>...</td>\n",
       "      <td>0.0</td>\n",
       "      <td>0.0</td>\n",
       "      <td>0.0</td>\n",
       "      <td>0.0</td>\n",
       "      <td>0.0</td>\n",
       "      <td>0.0</td>\n",
       "      <td>0.0</td>\n",
       "      <td>4.159817</td>\n",
       "      <td>172</td>\n",
       "      <td>243</td>\n",
       "    </tr>\n",
       "    <tr>\n",
       "      <th>1</th>\n",
       "      <td>Invicta Men's 9310 Pro Diver Collection Swiss ...</td>\n",
       "      <td>5.0</td>\n",
       "      <td>153884</td>\n",
       "      <td>0.0</td>\n",
       "      <td>0.0</td>\n",
       "      <td>0.0</td>\n",
       "      <td>0.0</td>\n",
       "      <td>0.0</td>\n",
       "      <td>0.0</td>\n",
       "      <td>0.0</td>\n",
       "      <td>...</td>\n",
       "      <td>0.0</td>\n",
       "      <td>0.0</td>\n",
       "      <td>0.0</td>\n",
       "      <td>0.0</td>\n",
       "      <td>0.0</td>\n",
       "      <td>0.0</td>\n",
       "      <td>0.0</td>\n",
       "      <td>4.032258</td>\n",
       "      <td>65</td>\n",
       "      <td>79</td>\n",
       "    </tr>\n",
       "  </tbody>\n",
       "</table>\n",
       "<p>2 rows × 152 columns</p>\n",
       "</div>"
      ],
      "text/plain": [
       "                                               title  score   index  \\\n",
       "0  Fender 351 Premium Celluloid Guitar Picks, 12 ...    5.0  137013   \n",
       "1  Invicta Men's 9310 Pro Diver Collection Swiss ...    5.0  153884   \n",
       "\n",
       "   categories_All Electronics  categories_Alternative Rock  \\\n",
       "0                         0.0                          0.0   \n",
       "1                         0.0                          0.0   \n",
       "\n",
       "   categories_Amazon Instant Video  categories_Amazon MP3 Store  \\\n",
       "0                              0.0                          0.0   \n",
       "1                              0.0                          0.0   \n",
       "\n",
       "   categories_Appliances  categories_Arts  categories_Automotive  ...  \\\n",
       "0                    0.0              0.0                    0.0  ...   \n",
       "1                    0.0              0.0                    0.0  ...   \n",
       "\n",
       "   his_brand_Fossil  his_brand_Freestyle  \\\n",
       "0               0.0                  0.0   \n",
       "1               0.0                  0.0   \n",
       "\n",
       "   his_brand_Great Eastern Entertainment  his_brand_Pro-Tec  \\\n",
       "0                                    0.0                0.0   \n",
       "1                                    0.0                0.0   \n",
       "\n",
       "   his_brand_Serenity Crystals, Inc.  his_brand_Skagen  his_brand_Timbuk2  \\\n",
       "0                                0.0               0.0                0.0   \n",
       "1                                0.0               0.0                0.0   \n",
       "\n",
       "   train_mean_score  helpfulness_helpful  helpfulness_total  \n",
       "0          4.159817                  172                243  \n",
       "1          4.032258                   65                 79  \n",
       "\n",
       "[2 rows x 152 columns]"
      ]
     },
     "execution_count": 11,
     "metadata": {},
     "output_type": "execute_result"
    }
   ],
   "source": [
    "data.head(2)"
   ]
  },
  {
   "cell_type": "code",
   "execution_count": 27,
   "metadata": {},
   "outputs": [
    {
     "data": {
      "text/plain": [
       "Index(['title', 'score', 'index', 'categories_All Electronics',\n",
       "       'categories_Alternative Rock', 'categories_Amazon Instant Video',\n",
       "       'categories_Amazon MP3 Store', 'categories_Appliances',\n",
       "       'categories_Arts', 'categories_Automotive',\n",
       "       ...\n",
       "       'his_brand_Fossil', 'his_brand_Freestyle',\n",
       "       'his_brand_Great Eastern Entertainment', 'his_brand_Pro-Tec',\n",
       "       'his_brand_Serenity Crystals, Inc.', 'his_brand_Skagen',\n",
       "       'his_brand_Timbuk2', 'train_mean_score', 'helpfulness_helpful',\n",
       "       'helpfulness_total'],\n",
       "      dtype='object', length=152)"
      ]
     },
     "execution_count": 27,
     "metadata": {},
     "output_type": "execute_result"
    }
   ],
   "source": [
    "data.columns"
   ]
  },
  {
   "cell_type": "code",
   "execution_count": 30,
   "metadata": {},
   "outputs": [
    {
     "data": {
      "text/html": [
       "<div>\n",
       "<style scoped>\n",
       "    .dataframe tbody tr th:only-of-type {\n",
       "        vertical-align: middle;\n",
       "    }\n",
       "\n",
       "    .dataframe tbody tr th {\n",
       "        vertical-align: top;\n",
       "    }\n",
       "\n",
       "    .dataframe thead th {\n",
       "        text-align: right;\n",
       "    }\n",
       "</style>\n",
       "<table border=\"1\" class=\"dataframe\">\n",
       "  <thead>\n",
       "    <tr style=\"text-align: right;\">\n",
       "      <th></th>\n",
       "      <th>score</th>\n",
       "      <th>train_mean_score</th>\n",
       "      <th>helpfulness_helpful</th>\n",
       "      <th>helpfulness_total</th>\n",
       "    </tr>\n",
       "  </thead>\n",
       "  <tbody>\n",
       "    <tr>\n",
       "      <th>count</th>\n",
       "      <td>200656.000000</td>\n",
       "      <td>200656.000000</td>\n",
       "      <td>200656.000000</td>\n",
       "      <td>200656.000000</td>\n",
       "    </tr>\n",
       "    <tr>\n",
       "      <th>mean</th>\n",
       "      <td>4.080949</td>\n",
       "      <td>4.072788</td>\n",
       "      <td>76.759972</td>\n",
       "      <td>99.223477</td>\n",
       "    </tr>\n",
       "    <tr>\n",
       "      <th>std</th>\n",
       "      <td>1.319711</td>\n",
       "      <td>0.753925</td>\n",
       "      <td>149.894774</td>\n",
       "      <td>191.794838</td>\n",
       "    </tr>\n",
       "    <tr>\n",
       "      <th>min</th>\n",
       "      <td>1.000000</td>\n",
       "      <td>1.000000</td>\n",
       "      <td>0.000000</td>\n",
       "      <td>0.000000</td>\n",
       "    </tr>\n",
       "    <tr>\n",
       "      <th>25%</th>\n",
       "      <td>4.000000</td>\n",
       "      <td>3.735294</td>\n",
       "      <td>2.000000</td>\n",
       "      <td>3.000000</td>\n",
       "    </tr>\n",
       "    <tr>\n",
       "      <th>50%</th>\n",
       "      <td>5.000000</td>\n",
       "      <td>4.211970</td>\n",
       "      <td>19.000000</td>\n",
       "      <td>24.000000</td>\n",
       "    </tr>\n",
       "    <tr>\n",
       "      <th>75%</th>\n",
       "      <td>5.000000</td>\n",
       "      <td>4.577778</td>\n",
       "      <td>84.000000</td>\n",
       "      <td>110.000000</td>\n",
       "    </tr>\n",
       "    <tr>\n",
       "      <th>max</th>\n",
       "      <td>5.000000</td>\n",
       "      <td>5.000000</td>\n",
       "      <td>1537.000000</td>\n",
       "      <td>1877.000000</td>\n",
       "    </tr>\n",
       "  </tbody>\n",
       "</table>\n",
       "</div>"
      ],
      "text/plain": [
       "               score  train_mean_score  helpfulness_helpful  helpfulness_total\n",
       "count  200656.000000     200656.000000        200656.000000      200656.000000\n",
       "mean        4.080949          4.072788            76.759972          99.223477\n",
       "std         1.319711          0.753925           149.894774         191.794838\n",
       "min         1.000000          1.000000             0.000000           0.000000\n",
       "25%         4.000000          3.735294             2.000000           3.000000\n",
       "50%         5.000000          4.211970            19.000000          24.000000\n",
       "75%         5.000000          4.577778            84.000000         110.000000\n",
       "max         5.000000          5.000000          1537.000000        1877.000000"
      ]
     },
     "execution_count": 30,
     "metadata": {},
     "output_type": "execute_result"
    }
   ],
   "source": [
    "data[[\"score\",\"train_mean_score\",\"helpfulness_helpful\",\"helpfulness_total\"]].describe()"
   ]
  },
  {
   "cell_type": "code",
   "execution_count": 77,
   "metadata": {},
   "outputs": [],
   "source": [
    "data[[\"score\",\"train_mean_score\",\"helpfulness_helpful\",\"helpfulness_total\"]].describe().to_csv(\"describe.csv\")"
   ]
  },
  {
   "cell_type": "markdown",
   "metadata": {},
   "source": [
    "## score"
   ]
  },
  {
   "cell_type": "code",
   "execution_count": 75,
   "metadata": {},
   "outputs": [
    {
     "data": {
      "image/png": "[encoded data removed]",
      "text/plain": [
       "<Figure size 500x500 with 1 Axes>"
      ]
     },
     "metadata": {},
     "output_type": "display_data"
    }
   ],
   "source": [
    "plt.figure(figsize=(5, 5))\n",
    "data[\"score\"].value_counts().sort_index().plot(kind=\"bar\")\n",
    "plt.title('Score Count by Interval')\n",
    "plt.ylabel(\"count\")\n",
    "plt.show()"
   ]
  },
  {
   "cell_type": "markdown",
   "metadata": {},
   "source": [
    "## train mean score"
   ]
  },
  {
   "cell_type": "code",
   "execution_count": 73,
   "metadata": {},
   "outputs": [
    {
     "data": {
      "image/png": "[encoded data removed]",
      "text/plain": [
       "<Figure size 500x500 with 1 Axes>"
      ]
     },
     "metadata": {},
     "output_type": "display_data"
    }
   ],
   "source": [
    "# 按 0.5 为间隔划分 train_mean_score\n",
    "bins = pd.interval_range(start=0, end=5, freq=0.5)\n",
    "data_binned = pd.cut(data['train_mean_score'], bins)\n",
    "\n",
    "# 计算每个区间的计数\n",
    "count_data = data_binned.value_counts().sort_index()\n",
    "\n",
    "# 绘制柱状图\n",
    "plt.figure(figsize=(5, 5))\n",
    "\n",
    "count_data.plot(kind='bar', edgecolor='black')\n",
    "\n",
    "# 添加标题和标签\n",
    "plt.title('Train Mean Score Count by Interval')\n",
    "plt.xlabel('Train Mean Score')\n",
    "plt.ylabel('Count')\n",
    "\n",
    "# 显示图形\n",
    "plt.show()"
   ]
  },
  {
   "cell_type": "markdown",
   "metadata": {},
   "source": [
    "## helpfulness"
   ]
  },
  {
   "cell_type": "code",
   "execution_count": 72,
   "metadata": {},
   "outputs": [
    {
     "data": {
      "image/png": "[encoded data removed]",
      "text/plain": [
       "<Figure size 1000x500 with 1 Axes>"
      ]
     },
     "metadata": {},
     "output_type": "display_data"
    }
   ],
   "source": [
    "# 按 0.5 为间隔划分 train_mean_score\n",
    "bins = pd.interval_range(start=0, end=1, freq=0.12)\n",
    "helpratio_binned = pd.cut(data[\"helpfulness_helpful\"]/data[\"helpfulness_total\"], bins)\n",
    "\n",
    "# 计算每个区间的计数\n",
    "count_data = helpratio_binned.value_counts().sort_index()\n",
    "formatted_labels = [f'{interval.left:.2f} - {interval.right:.2f}' for interval in count_data.index]\n",
    "\n",
    "# 图片大小\n",
    "plt.figure(figsize=(10, 5))\n",
    "# 绘制柱状图\n",
    "plt.bar(formatted_labels, count_data, edgecolor='black')\n",
    "\n",
    "# 添加标题和标签\n",
    "plt.title('Helpfulness Ratio (helpful/total) by Interval')\n",
    "plt.xlabel('Helpfulness Ratio')\n",
    "plt.ylabel('Count')\n",
    "\n",
    "# 显示图形\n",
    "plt.show()"
   ]
  },
  {
   "cell_type": "code",
   "execution_count": 76,
   "metadata": {},
   "outputs": [
    {
     "data": {
      "image/png": "[encoded data removed]",
      "text/plain": [
       "<Figure size 1000x500 with 1 Axes>"
      ]
     },
     "metadata": {},
     "output_type": "display_data"
    }
   ],
   "source": [
    "# 按 0.5 为间隔划分 train_mean_score\n",
    "bins = pd.interval_range(start=data[\"helpfulness_helpful\"].min(), end=data[\"helpfulness_helpful\"].max(), periods=6)\n",
    "data_binned = pd.cut(data[\"helpfulness_helpful\"], bins)\n",
    "\n",
    "# 计算每个区间的计数\n",
    "count_data = data_binned.value_counts().sort_index()\n",
    "formatted_labels = [f'{round(interval.left, 0)} - {round(interval.right, 0)}' for interval in count_data.index]\n",
    "# 绘制柱状图\n",
    "plt.figure(figsize=(10, 5))\n",
    "plt.bar(formatted_labels, count_data, edgecolor='black')\n",
    "\n",
    "# 添加标题和标签\n",
    "plt.title('Helpfulness (Helpful Count) by Interval')\n",
    "plt.xlabel('Helpful Count')\n",
    "plt.ylabel('Count')\n",
    "\n",
    "# 显示图形\n",
    "plt.show()"
   ]
  },
  {
   "cell_type": "code",
   "execution_count": 79,
   "metadata": {},
   "outputs": [
    {
     "data": {
      "image/png": "[encoded data removed]",
      "text/plain": [
       "<Figure size 1000x500 with 1 Axes>"
      ]
     },
     "metadata": {},
     "output_type": "display_data"
    }
   ],
   "source": [
    "# 按 0.5 为间隔划分 train_mean_score\n",
    "bins = pd.interval_range(start=data[\"helpfulness_total\"].min(), end=data[\"helpfulness_total\"].max(), periods=6)\n",
    "data_binned = pd.cut(data[\"helpfulness_total\"], bins)\n",
    "\n",
    "# 计算每个区间的计数\n",
    "count_data = data_binned.value_counts().sort_index()\n",
    "formatted_labels = [f'{round(interval.left, 0)} - {round(interval.right, 0)}' for interval in count_data.index]\n",
    "# 绘制柱状图\n",
    "plt.figure(figsize=(10, 5))\n",
    "plt.bar(formatted_labels, count_data, edgecolor='black')\n",
    "\n",
    "# 添加标题和标签\n",
    "plt.title('Helpfulness (Total) by Interval')\n",
    "plt.xlabel('Helpfulness, Total Count')\n",
    "plt.ylabel('Count')\n",
    "\n",
    "# 显示图形\n",
    "plt.show()"
   ]
  },
  {
   "cell_type": "markdown",
   "metadata": {},
   "source": [
    "## history"
   ]
  },
  {
   "cell_type": "code",
   "execution_count": 112,
   "metadata": {},
   "outputs": [],
   "source": [
    "user_history=data.groupby(\"userId_encode\")[\"index\"].count()"
   ]
  },
  {
   "cell_type": "code",
   "execution_count": 123,
   "metadata": {},
   "outputs": [
    {
     "data": {
      "text/plain": [
       "index\n",
       "1      146433\n",
       "2       12779\n",
       "3        3368\n",
       "4        1341\n",
       "5         553\n",
       "6         331\n",
       "7         206\n",
       "8         108\n",
       "9          91\n",
       "10         81\n",
       "11         51\n",
       "12         32\n",
       "13         36\n",
       "14         27\n",
       "15         18\n",
       "16         13\n",
       "17          5\n",
       "18         11\n",
       "20          5\n",
       "21          3\n",
       "23          2\n",
       "24          1\n",
       "25          3\n",
       "26          1\n",
       "27          3\n",
       "29          1\n",
       "30          1\n",
       "31          2\n",
       "33          2\n",
       "34          2\n",
       "38          2\n",
       "39          3\n",
       "40          3\n",
       "41         10\n",
       "43          1\n",
       "56          1\n",
       "66          1\n",
       "75          1\n",
       "326         1\n",
       "Name: count, dtype: int64"
      ]
     },
     "execution_count": 123,
     "metadata": {},
     "output_type": "execute_result"
    }
   ],
   "source": [
    "user_history.value_counts().sort_index()"
   ]
  },
  {
   "cell_type": "code",
   "execution_count": 128,
   "metadata": {},
   "outputs": [
    {
     "data": {
      "image/png": "[encoded data removed]",
      "text/plain": [
       "<Figure size 1000x500 with 1 Axes>"
      ]
     },
     "metadata": {},
     "output_type": "display_data"
    }
   ],
   "source": [
    "# 由于一个人贡献20条评论的情况较少，故只可视化1-20的部分\n",
    "bins = pd.interval_range(start=user_history.min(), end=20, periods=10)\n",
    "data_binned = pd.cut(user_history, bins)\n",
    "\n",
    "# 计算每个区间的计数\n",
    "count_data = data_binned.value_counts().sort_index()\n",
    "formatted_labels = [f'{round(interval.left, 0)} - {round(interval.right, 0)}' for interval in count_data.index]\n",
    "# 绘制柱状图\n",
    "plt.figure(figsize=(10, 5))\n",
    "plt.bar(formatted_labels, count_data, edgecolor='black')\n",
    "\n",
    "# 添加标题和标签: 用户评论数分布\n",
    "plt.title('User Reviews Count by Interval')\n",
    "plt.xlabel('#Reviews by Same User')\n",
    "plt.ylabel('Count')\n",
    "\n",
    "# 显示图形\n",
    "plt.show()"
   ]
  },
  {
   "cell_type": "code",
   "execution_count": 5,
   "metadata": {},
   "outputs": [],
   "source": [
    "long_summary = pd.read_parquet('long_summary.parquet')"
   ]
  },
  {
   "cell_type": "code",
   "execution_count": 11,
   "metadata": {},
   "outputs": [
    {
     "data": {
      "text/plain": [
       "long_summary\n",
       "1       13\n",
       "2       40\n",
       "3       61\n",
       "4      316\n",
       "5      291\n",
       "      ... \n",
       "96      38\n",
       "97      61\n",
       "98      61\n",
       "99      62\n",
       "100     63\n",
       "Name: count, Length: 100, dtype: int64"
      ]
     },
     "execution_count": 11,
     "metadata": {},
     "output_type": "execute_result"
    }
   ],
   "source": [
    "long_summary['long_summary'].str.len().value_counts().sort_index()[:100]"
   ]
  },
  {
   "cell_type": "code",
   "execution_count": 21,
   "metadata": {},
   "outputs": [
    {
     "data": {
      "image/png": "[encoded data removed]",
      "text/plain": [
       "<Figure size 1000x500 with 1 Axes>"
      ]
     },
     "metadata": {},
     "output_type": "display_data"
    }
   ],
   "source": [
    "bins = pd.interval_range(start=1, end=200, periods=20)\n",
    "data_binned = pd.cut(long_summary['long_summary'].str.len(), bins)\n",
    "\n",
    "# 计算每个区间的计数\n",
    "count_data = data_binned.value_counts().sort_index()\n",
    "formatted_labels = [f'{round(interval.left, 0)} - {round(interval.right, 0)}' for interval in count_data.index]\n",
    "# 绘制柱状图\n",
    "plt.figure(figsize=(10, 5))\n",
    "plt.bar(formatted_labels, count_data, edgecolor='black')\n",
    "\n",
    "# 添加标题和标签: 用户评论数分布\n",
    "plt.xticks(ticks=range(0, len(formatted_labels), 2), labels=formatted_labels[::2], rotation=45, ha='right')\n",
    "\n",
    "# 找到包含50的区间索引\n",
    "for i, interval in enumerate(count_data.index):\n",
    "    if interval.left <= 50 < interval.right:\n",
    "        x_index = i\n",
    "        break\n",
    "plt.axvline(x=x_index, color='r', linestyle='--', linewidth=1)\n",
    "\n",
    "plt.title('Long Summary Length Count by Interval')\n",
    "plt.xlabel('Length of Long Summary')\n",
    "plt.ylabel('Count')\n",
    "\n",
    "# 显示图形\n",
    "plt.show()"
   ]
  }
 ],
 "metadata": {
  "kernelspec": {
   "display_name": "python",
   "language": "python",
   "name": "python3"
  },
  "language_info": {
   "codemirror_mode": {
    "name": "ipython",
    "version": 3
   },
   "file_extension": ".py",
   "mimetype": "text/x-python",
   "name": "python",
   "nbconvert_exporter": "python",
   "pygments_lexer": "ipython3",
   "version": "3.8.18"
  }
 },
 "nbformat": 4,
 "nbformat_minor": 2
}
